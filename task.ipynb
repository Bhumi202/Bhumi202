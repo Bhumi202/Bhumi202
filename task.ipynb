{
 "cells": [
  {
   "cell_type": "markdown",
   "id": "30a292da",
   "metadata": {},
   "source": [
    "### List compresensions"
   ]
  },
  {
   "cell_type": "markdown",
   "id": "2bdabf0e",
   "metadata": {},
   "source": [
    "#### 1.Create a list compresension that generates a list of squares of numbers from 1 to 10."
   ]
  },
  {
   "cell_type": "code",
   "execution_count": 16,
   "id": "46e09f07",
   "metadata": {},
   "outputs": [
    {
     "name": "stdout",
     "output_type": "stream",
     "text": [
      "[1, 4, 9, 16, 25, 36, 49, 64, 81, 100]\n"
     ]
    }
   ],
   "source": [
    "a=[]\n",
    "for i in range(1,11):\n",
    "    a.append(i**2)\n",
    "print(a)       "
   ]
  },
  {
   "cell_type": "code",
   "execution_count": 11,
   "id": "01542f53",
   "metadata": {},
   "outputs": [
    {
     "data": {
      "text/plain": [
       "[1, 4, 9, 16, 25, 36, 49, 64, 81, 100]"
      ]
     },
     "execution_count": 11,
     "metadata": {},
     "output_type": "execute_result"
    }
   ],
   "source": [
    "a=[i**2 for i in range(1,11)]\n",
    "a"
   ]
  },
  {
   "cell_type": "markdown",
   "id": "98947a22",
   "metadata": {},
   "source": [
    "#### 2.Given a list of words, create a list comprehensions to filter out words that are longer than 5 characters."
   ]
  },
  {
   "cell_type": "code",
   "execution_count": 10,
   "id": "cedddc01",
   "metadata": {},
   "outputs": [
    {
     "name": "stdout",
     "output_type": "stream",
     "text": [
      "['apple', 'date']\n"
     ]
    }
   ],
   "source": [
    "words=['apple','banana','cherry','date','elderberry']\n",
    "filtered_words=[word for word in words if len(word)<=5]\n",
    "print(filtered_words)"
   ]
  },
  {
   "cell_type": "markdown",
   "id": "d080279e",
   "metadata": {},
   "source": [
    "### Lists"
   ]
  },
  {
   "cell_type": "markdown",
   "id": "e8770f65",
   "metadata": {},
   "source": [
    "#### 1.Create a list containing the numbers 1 to 5 and then append the number 6 to it."
   ]
  },
  {
   "cell_type": "code",
   "execution_count": 19,
   "id": "df010bb2",
   "metadata": {},
   "outputs": [
    {
     "name": "stdout",
     "output_type": "stream",
     "text": [
      "[1, 2, 3, 4, 5, 6]\n"
     ]
    }
   ],
   "source": [
    "num=[1,2,3,4,5]\n",
    "num.append(6)\n",
    "print(num)"
   ]
  },
  {
   "cell_type": "code",
   "execution_count": 6,
   "id": "ca742682",
   "metadata": {},
   "outputs": [
    {
     "name": "stdout",
     "output_type": "stream",
     "text": [
      "[1, 2, 3, 4, 5, 6]\n"
     ]
    }
   ],
   "source": [
    "num=[ele for ele in range(1,6)]+[6]\n",
    "print(num)"
   ]
  },
  {
   "cell_type": "markdown",
   "id": "c1e86db6",
   "metadata": {},
   "source": [
    "### 2.Given  two lists ,merge them into a single list without duplicates."
   ]
  },
  {
   "cell_type": "code",
   "execution_count": 30,
   "id": "0271355b",
   "metadata": {},
   "outputs": [
    {
     "name": "stdout",
     "output_type": "stream",
     "text": [
      "[1, 2, 3, 4, 5, 6]\n"
     ]
    }
   ],
   "source": [
    "list1=[1,2,3,4]\n",
    "list2=[3,4,5,6]\n",
    "merged_list=list(set(list1+list2))\n",
    "print(merged_list)\n"
   ]
  },
  {
   "cell_type": "markdown",
   "id": "d56969f5",
   "metadata": {},
   "source": [
    "### Map"
   ]
  },
  {
   "cell_type": "markdown",
   "id": "b5958d0e",
   "metadata": {},
   "source": [
    "#### 1.use the map function to double each element in a list."
   ]
  },
  {
   "cell_type": "code",
   "execution_count": 28,
   "id": "1eaba60a",
   "metadata": {},
   "outputs": [
    {
     "name": "stdout",
     "output_type": "stream",
     "text": [
      "[2, 4, 6, 8, 10]\n"
     ]
    }
   ],
   "source": [
    "x=[1,2,3,4,5]\n",
    "y=list(map(lambda x:x*2,x))\n",
    "print(y)"
   ]
  },
  {
   "cell_type": "markdown",
   "id": "4bf62cec",
   "metadata": {},
   "source": [
    "#### 2.use the map funtion to convert a list of strings to uppercase."
   ]
  },
  {
   "cell_type": "code",
   "execution_count": 10,
   "id": "22039740",
   "metadata": {},
   "outputs": [
    {
     "name": "stdout",
     "output_type": "stream",
     "text": [
      "['APPLE', 'BANANA', 'CHERRY']\n"
     ]
    }
   ],
   "source": [
    "x=['apple','banana','cherry']\n",
    "y=lambda x:x.upper()\n",
    "z=list(map(y,x))\n",
    "print(z)\n"
   ]
  },
  {
   "cell_type": "markdown",
   "id": "44c3b4bf",
   "metadata": {},
   "source": [
    "### filter"
   ]
  },
  {
   "cell_type": "markdown",
   "id": "a51f9ac5",
   "metadata": {},
   "source": [
    "#### 1.Use the filter function to get all even numbers from a list."
   ]
  },
  {
   "cell_type": "code",
   "execution_count": 2,
   "id": "a4c10f19",
   "metadata": {},
   "outputs": [
    {
     "name": "stdout",
     "output_type": "stream",
     "text": [
      "[2, 4, 6]\n"
     ]
    }
   ],
   "source": [
    "x=[1,2,3,4,5,6]\n",
    "even_num=list(filter(lambda x:x%2==0,x))\n",
    "print(even_num)"
   ]
  },
  {
   "cell_type": "code",
   "execution_count": 34,
   "id": "23ff7955",
   "metadata": {},
   "outputs": [],
   "source": [
    "a = lambda x: True if x%2==0 else False"
   ]
  },
  {
   "cell_type": "code",
   "execution_count": 35,
   "id": "efa88c6f",
   "metadata": {},
   "outputs": [
    {
     "name": "stdout",
     "output_type": "stream",
     "text": [
      "<filter object at 0x0000019CA0398310> <class 'filter'>\n"
     ]
    }
   ],
   "source": [
    "x = filter(a, range(1,7))\n",
    "print(x, type(x))"
   ]
  },
  {
   "cell_type": "code",
   "execution_count": 36,
   "id": "a2b4e164",
   "metadata": {},
   "outputs": [
    {
     "data": {
      "text/plain": [
       "[2, 4, 6]"
      ]
     },
     "execution_count": 36,
     "metadata": {},
     "output_type": "execute_result"
    }
   ],
   "source": [
    "x = list(x)\n",
    "x"
   ]
  },
  {
   "cell_type": "markdown",
   "id": "0da7fb04",
   "metadata": {},
   "source": [
    "#### 2.Use the filter function to get all words from a list that starts with the letter 'b'."
   ]
  },
  {
   "cell_type": "code",
   "execution_count": 17,
   "id": "0d06d533",
   "metadata": {},
   "outputs": [
    {
     "data": {
      "text/plain": [
       "['banana', 'blueberry']"
      ]
     },
     "execution_count": 17,
     "metadata": {},
     "output_type": "execute_result"
    }
   ],
   "source": [
    "a=['apple','banana','cherry','blueberry','date']\n",
    "y=lambda x:True if x.startswith('b') else False\n",
    "c=list(filter(y,x))\n",
    "c\n"
   ]
  },
  {
   "cell_type": "markdown",
   "id": "a3e8b204",
   "metadata": {},
   "source": [
    "### Function"
   ]
  },
  {
   "cell_type": "markdown",
   "id": "666cdab7",
   "metadata": {},
   "source": [
    "#### 1.Write a function called add that takes two numbers as input and return their sum."
   ]
  },
  {
   "cell_type": "code",
   "execution_count": 13,
   "id": "8ee85adf",
   "metadata": {},
   "outputs": [
    {
     "data": {
      "text/plain": [
       "7"
      ]
     },
     "execution_count": 13,
     "metadata": {},
     "output_type": "execute_result"
    }
   ],
   "source": [
    " def add(x,y):\n",
    "    return x+y\n",
    "add(3,4)"
   ]
  },
  {
   "cell_type": "code",
   "execution_count": 20,
   "id": "21932d52",
   "metadata": {},
   "outputs": [
    {
     "name": "stdout",
     "output_type": "stream",
     "text": [
      "7\n"
     ]
    }
   ],
   "source": [
    "result=add(3,4)\n",
    "print(result)"
   ]
  },
  {
   "cell_type": "markdown",
   "id": "928ec4bd",
   "metadata": {},
   "source": [
    "#### 2.Write a function called calculate_average that takes a list of numbers as input and returns the average (mean) of those numbers."
   ]
  },
  {
   "cell_type": "code",
   "execution_count": 6,
   "id": "afc60f1e",
   "metadata": {},
   "outputs": [
    {
     "data": {
      "text/plain": [
       "3.0"
      ]
     },
     "execution_count": 6,
     "metadata": {},
     "output_type": "execute_result"
    }
   ],
   "source": [
    "def calculate_average(num):\n",
    "    return result/len(num)\n",
    "calculate_average([1,2,3,4,5])    "
   ]
  },
  {
   "cell_type": "code",
   "execution_count": 7,
   "id": "f540073f",
   "metadata": {},
   "outputs": [
    {
     "name": "stdout",
     "output_type": "stream",
     "text": [
      "3.0\n"
     ]
    }
   ],
   "source": [
    "x=([1,2,3,4,5])\n",
    "result=calculate_average(x)\n",
    "print(result)"
   ]
  }
 ],
 "metadata": {
  "kernelspec": {
   "display_name": "Python 3 (ipykernel)",
   "language": "python",
   "name": "python3"
  },
  "language_info": {
   "codemirror_mode": {
    "name": "ipython",
    "version": 3
   },
   "file_extension": ".py",
   "mimetype": "text/x-python",
   "name": "python",
   "nbconvert_exporter": "python",
   "pygments_lexer": "ipython3",
   "version": "3.11.3"
  }
 },
 "nbformat": 4,
 "nbformat_minor": 5
}
