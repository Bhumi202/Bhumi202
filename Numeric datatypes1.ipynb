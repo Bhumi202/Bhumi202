{
 "cells": [
  {
   "cell_type": "code",
   "execution_count": 1,
   "id": "be46c73b",
   "metadata": {},
   "outputs": [
    {
     "name": "stdout",
     "output_type": "stream",
     "text": [
      "10.102 <class 'float'>\n"
     ]
    }
   ],
   "source": [
    "x=10.102\n",
    "print(x,type(x))"
   ]
  },
  {
   "cell_type": "markdown",
   "id": "9ed46951",
   "metadata": {},
   "source": [
    "### Typecast \n",
    "\n",
    "#### Changing the value type"
   ]
  },
  {
   "cell_type": "code",
   "execution_count": 3,
   "id": "0c28b7b7",
   "metadata": {},
   "outputs": [
    {
     "name": "stdout",
     "output_type": "stream",
     "text": [
      "10.102 <class 'float'>\n",
      "10 <class 'int'>\n",
      "7 <class 'str'>\n",
      "7.0 <class 'float'>\n"
     ]
    }
   ],
   "source": [
    "x=10.102\n",
    "print(x,type(x))\n",
    "x= int(x) #changing float \n",
    "print(x,type(x))\n",
    "\n",
    "x='7'\n",
    "print(x,type(x))\n",
    "\n",
    "x='7'\n",
    "x=float(x)\n",
    "print(x,type(x))\n"
   ]
  },
  {
   "cell_type": "code",
   "execution_count": 34,
   "id": "8f63c786",
   "metadata": {},
   "outputs": [
    {
     "name": "stdout",
     "output_type": "stream",
     "text": [
      "(4+4j) <class 'complex'>\n"
     ]
    },
    {
     "data": {
      "text/plain": [
       "(4.0, 4.0)"
      ]
     },
     "execution_count": 34,
     "metadata": {},
     "output_type": "execute_result"
    }
   ],
   "source": [
    "x=4+4j\n",
    "print(x,type(x))\n",
    "\n",
    "x.real,x.imag"
   ]
  },
  {
   "cell_type": "markdown",
   "id": "1bd3ca8c",
   "metadata": {},
   "source": [
    "### bin,oct,hex"
   ]
  },
  {
   "cell_type": "code",
   "execution_count": 9,
   "id": "fda91b8e",
   "metadata": {},
   "outputs": [
    {
     "name": "stdout",
     "output_type": "stream",
     "text": [
      "6 <class 'int'>\n",
      "0b110 <class 'str'>\n"
     ]
    }
   ],
   "source": [
    "x=6\n",
    "print(x,type(x))\n",
    "\n",
    "x=bin(x)\n",
    "print(x,type(x))"
   ]
  },
  {
   "cell_type": "code",
   "execution_count": 15,
   "id": "45cf28e4",
   "metadata": {},
   "outputs": [
    {
     "name": "stdout",
     "output_type": "stream",
     "text": [
      "17 <class 'int'>\n",
      "0o21 <class 'str'>\n"
     ]
    }
   ],
   "source": [
    "x=17\n",
    "print(x,type(x))\n",
    "\n",
    "x=oct(x)\n",
    "print(x,type(x))"
   ]
  },
  {
   "cell_type": "code",
   "execution_count": 21,
   "id": "c432b256",
   "metadata": {},
   "outputs": [
    {
     "name": "stdout",
     "output_type": "stream",
     "text": [
      "17 <class 'int'>\n",
      "0x11 <class 'str'>\n"
     ]
    }
   ],
   "source": [
    "x=17\n",
    "print(x,type(x))\n",
    "\n",
    "x=hex(x)\n",
    "print(x,type(x))"
   ]
  },
  {
   "cell_type": "code",
   "execution_count": 24,
   "id": "85b65014",
   "metadata": {},
   "outputs": [
    {
     "data": {
      "text/plain": [
       "'x=17\\nprint(x,type(x))\\n\\nx=hex(x)\\nprint(x,type(x))'"
      ]
     },
     "execution_count": 24,
     "metadata": {},
     "output_type": "execute_result"
    }
   ],
   "source": [
    "'''x=17\n",
    "print(x,type(x))\n",
    "\n",
    "x=hex(x)\n",
    "print(x,type(x))'''"
   ]
  },
  {
   "cell_type": "markdown",
   "id": "71aad477",
   "metadata": {},
   "source": [
    "### converting bin,oct ,hex"
   ]
  },
  {
   "cell_type": "code",
   "execution_count": 26,
   "id": "98150f39",
   "metadata": {},
   "outputs": [
    {
     "data": {
      "text/plain": [
       "(17, 17)"
      ]
     },
     "execution_count": 26,
     "metadata": {},
     "output_type": "execute_result"
    }
   ],
   "source": [
    "int('0x11',0),int('011',16)"
   ]
  },
  {
   "cell_type": "code",
   "execution_count": 30,
   "id": "3ff97bc5",
   "metadata": {},
   "outputs": [
    {
     "data": {
      "text/plain": [
       "(9, 9)"
      ]
     },
     "execution_count": 30,
     "metadata": {},
     "output_type": "execute_result"
    }
   ],
   "source": [
    "int('0o11',0),int('011',8)"
   ]
  },
  {
   "cell_type": "code",
   "execution_count": 29,
   "id": "80a2a458",
   "metadata": {},
   "outputs": [
    {
     "data": {
      "text/plain": [
       "(3, 3)"
      ]
     },
     "execution_count": 29,
     "metadata": {},
     "output_type": "execute_result"
    }
   ],
   "source": [
    "int('0b11',0),int('011',2)"
   ]
  },
  {
   "cell_type": "markdown",
   "id": "9400e5ca",
   "metadata": {},
   "source": [
    "### int() with user defined bases\n"
   ]
  },
  {
   "cell_type": "code",
   "execution_count": 32,
   "id": "541b8ef3",
   "metadata": {},
   "outputs": [
    {
     "data": {
      "text/plain": [
       "4"
      ]
     },
     "execution_count": 32,
     "metadata": {},
     "output_type": "execute_result"
    }
   ],
   "source": [
    "int('0011',3)\n",
    "#int ('0011',32),int('0011',33),int('0011'34)"
   ]
  },
  {
   "cell_type": "code",
   "execution_count": null,
   "id": "e5835672",
   "metadata": {},
   "outputs": [],
   "source": []
  }
 ],
 "metadata": {
  "kernelspec": {
   "display_name": "Python 3 (ipykernel)",
   "language": "python",
   "name": "python3"
  },
  "language_info": {
   "codemirror_mode": {
    "name": "ipython",
    "version": 3
   },
   "file_extension": ".py",
   "mimetype": "text/x-python",
   "name": "python",
   "nbconvert_exporter": "python",
   "pygments_lexer": "ipython3",
   "version": "3.11.3"
  }
 },
 "nbformat": 4,
 "nbformat_minor": 5
}
