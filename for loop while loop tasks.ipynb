{
 "cells": [
  {
   "cell_type": "markdown",
   "id": "8e20f9e5",
   "metadata": {},
   "source": [
    "### 1.Create a function that takes a base number and an exponent number and returns the calculation"
   ]
  },
  {
   "cell_type": "code",
   "execution_count": 1,
   "id": "0bed92d2",
   "metadata": {},
   "outputs": [
    {
     "name": "stdout",
     "output_type": "stream",
     "text": [
      "3\n",
      "4\n",
      "9\n",
      "81\n",
      "6561\n"
     ]
    }
   ],
   "source": [
    "base,exp=int(input()),int(input())\n",
    "i=1\n",
    "while i<exp:\n",
    "    base*=base\n",
    "    i+=1\n",
    "    print(base)"
   ]
  },
  {
   "cell_type": "code",
   "execution_count": 4,
   "id": "08665224",
   "metadata": {},
   "outputs": [
    {
     "name": "stdout",
     "output_type": "stream",
     "text": [
      "2\n",
      "3\n",
      "4\n",
      "16\n",
      "256\n"
     ]
    }
   ],
   "source": [
    "base,exp=int(input()),int(input())\n",
    "for i in range(3):\n",
    "    base*=base\n",
    "    i+=1\n",
    "    print(base)"
   ]
  },
  {
   "cell_type": "markdown",
   "id": "db7e4204",
   "metadata": {},
   "source": [
    "### 2.Create a function that takes a list and returns the sum of all numbers in the list."
   ]
  },
  {
   "cell_type": "code",
   "execution_count": 8,
   "id": "6442ba7f",
   "metadata": {},
   "outputs": [
    {
     "name": "stdout",
     "output_type": "stream",
     "text": [
      "sum of all elements: 205\n"
     ]
    }
   ],
   "source": [
    "x=[3,90,67,45]\n",
    "total=0\n",
    "for i in range(0,len(x)):\n",
    "    total=total+x[i]\n",
    "print (\"sum of all elements:\",total)     "
   ]
  },
  {
   "cell_type": "code",
   "execution_count": 3,
   "id": "c12f08b9",
   "metadata": {},
   "outputs": [
    {
     "name": "stdout",
     "output_type": "stream",
     "text": [
      "sum of all elements: 182\n"
     ]
    }
   ],
   "source": [
    "x=[3,56,78,45]\n",
    "i=0\n",
    "total=0\n",
    "while (i<len(x)):\n",
    "    total=total+x[i]\n",
    "    i+=1\n",
    "print (\"sum of all elements:\",total)     \n"
   ]
  },
  {
   "cell_type": "markdown",
   "id": "7dda82e0",
   "metadata": {},
   "source": [
    "#### 3.Create a function that takes a list of numbers. Return the largest number in the list.\n",
    "\n"
   ]
  },
  {
   "cell_type": "code",
   "execution_count": 1,
   "id": "077517e1",
   "metadata": {},
   "outputs": [
    {
     "name": "stdout",
     "output_type": "stream",
     "text": [
      " the largest number: 90\n"
     ]
    }
   ],
   "source": [
    "x=[34,56,78,90]\n",
    "i=1\n",
    "while i<len(x):\n",
    "    if x[i]>0:\n",
    "        largest=x[i] \n",
    "    i+=1  \n",
    "print(\" the largest number:\",largest)    \n",
    "    "
   ]
  },
  {
   "cell_type": "code",
   "execution_count": 2,
   "id": "9b3f0c71",
   "metadata": {},
   "outputs": [
    {
     "name": "stdout",
     "output_type": "stream",
     "text": [
      "Largest number: 89\n"
     ]
    }
   ],
   "source": [
    "num=[34,56,89,3]\n",
    "largest=num[0]\n",
    "for num in num:\n",
    "    if num>largest:\n",
    "        largest=num\n",
    "print(\"Largest number:\",largest)        "
   ]
  },
  {
   "cell_type": "markdown",
   "id": "a395a3b9",
   "metadata": {},
   "source": [
    "#### 4.Create a function that takes a list of numbers and returns the smallest number in the list"
   ]
  },
  {
   "cell_type": "code",
   "execution_count": 19,
   "id": "0d72e6a1",
   "metadata": {},
   "outputs": [
    {
     "name": "stdout",
     "output_type": "stream",
     "text": [
      " the smallest number: 12\n"
     ]
    }
   ],
   "source": [
    "x=[34,89,12,45]\n",
    "i=1\n",
    "while i<len(x):\n",
    "    if x[i]<smallest:\n",
    "        smallest=x[i]\n",
    "    i+=1\n",
    "print(\" the smallest number:\",smallest)    "
   ]
  },
  {
   "cell_type": "code",
   "execution_count": 4,
   "id": "ceb3f8a0",
   "metadata": {},
   "outputs": [
    {
     "name": "stdout",
     "output_type": "stream",
     "text": [
      "smallest number: 6\n"
     ]
    }
   ],
   "source": [
    "num=[45,34,12,6]\n",
    "smallest=x[0]\n",
    "for num in num:\n",
    "    if num<smallest:\n",
    "        smallest=num\n",
    "print(\"smallest number:\",smallest)        "
   ]
  },
  {
   "cell_type": "code",
   "execution_count": 5,
   "id": "f26f88eb",
   "metadata": {},
   "outputs": [
    {
     "name": "stdout",
     "output_type": "stream",
     "text": [
      "90\n"
     ]
    }
   ],
   "source": [
    "list=[20,67,56,90]\n",
    "x=list[0]\n",
    "for i in list:\n",
    "    if i>x:\n",
    "        x=i\n",
    "print(x)        \n"
   ]
  },
  {
   "cell_type": "code",
   "execution_count": 2,
   "id": "d89a9c1e",
   "metadata": {},
   "outputs": [
    {
     "name": "stdout",
     "output_type": "stream",
     "text": [
      "23\n"
     ]
    }
   ],
   "source": [
    "list=[23,45,67]\n",
    "x=list[0]\n",
    "for i in list:\n",
    "    if i<x:\n",
    "        x=i\n",
    "print(x)        "
   ]
  },
  {
   "cell_type": "markdown",
   "id": "e24b1624",
   "metadata": {},
   "source": [
    "#### 5. Create a function that takes a list and returns the difference between the biggest and smallest numbers."
   ]
  },
  {
   "cell_type": "code",
   "execution_count": 2,
   "id": "b1ab4097",
   "metadata": {},
   "outputs": [
    {
     "name": "stdout",
     "output_type": "stream",
     "text": [
      "smallest,largest: 67 24\n"
     ]
    }
   ],
   "source": [
    "x=[24,56,34,67]\n",
    "i=1\n",
    "largest=smallest=x[0]\n",
    "while i<len(x):\n",
    "    if x[i]<smallest:\n",
    "        smallest=x[i]\n",
    "    if x[i]>largest:\n",
    "        largest=x[i]\n",
    "    i+=1\n",
    "print(\"smallest,largest:\",largest,smallest)    \n"
   ]
  },
  {
   "cell_type": "code",
   "execution_count": 13,
   "id": "a22f155e",
   "metadata": {
    "scrolled": true
   },
   "outputs": [
    {
     "ename": "IndexError",
     "evalue": "list index out of range",
     "output_type": "error",
     "traceback": [
      "\u001b[1;31m---------------------------------------------------------------------------\u001b[0m",
      "\u001b[1;31mIndexError\u001b[0m                                Traceback (most recent call last)",
      "Cell \u001b[1;32mIn[13], line 4\u001b[0m\n\u001b[0;32m      2\u001b[0m largest\u001b[38;5;241m=\u001b[39msmallest\u001b[38;5;241m=\u001b[39mx[\u001b[38;5;241m0\u001b[39m]   \n\u001b[0;32m      3\u001b[0m \u001b[38;5;28;01mfor\u001b[39;00m i \u001b[38;5;129;01min\u001b[39;00m x:\n\u001b[1;32m----> 4\u001b[0m     \u001b[38;5;28;01mif\u001b[39;00m x[i]\u001b[38;5;241m<\u001b[39msmallest:\n\u001b[0;32m      5\u001b[0m         smallest\u001b[38;5;241m=\u001b[39mx[i]\n\u001b[0;32m      6\u001b[0m     \u001b[38;5;28;01mif\u001b[39;00m x[i] \u001b[38;5;241m>\u001b[39mlargest:\n",
      "\u001b[1;31mIndexError\u001b[0m: list index out of range"
     ]
    }
   ],
   "source": [
    "x=[24,56,34,67]\n",
    "largest=smallest=x[0]   \n",
    "for i in x:\n",
    "    if x[i]<smallest:\n",
    "        smallest=x[i]\n",
    "    if x[i] >largest:\n",
    "        largest=x[i]\n",
    "print(\"smallest,largest:\",largest,smallest)        \n",
    "    \n",
    "        \n",
    "    \n",
    "    \n",
    "    "
   ]
  },
  {
   "cell_type": "markdown",
   "id": "56af3c3b",
   "metadata": {},
   "source": [
    "##### 6.Write a function that takes an integer and returns a string with the given number of \"a\"s in Edabit.\n",
    "\n",
    "Examples\n",
    "how_many_times(5) ➞ \"Edaaaaabit\"\n"
   ]
  },
  {
   "cell_type": "code",
   "execution_count": 2,
   "id": "cd26fde4",
   "metadata": {},
   "outputs": [
    {
     "name": "stdout",
     "output_type": "stream",
     "text": [
      "enter the num:5\n",
      "Edaaaabit\n"
     ]
    }
   ],
   "source": [
    "num=int(input(\"enter the num:\"))\n",
    "result=0\n",
    "if num>=0:\n",
    "    result='E'+'d'+'a'*4 +'bit'\n",
    "else:\n",
    "    result=0\n",
    "print(result)    "
   ]
  },
  {
   "cell_type": "code",
   "execution_count": 2,
   "id": "75524732",
   "metadata": {},
   "outputs": [
    {
     "name": "stdout",
     "output_type": "stream",
     "text": [
      "enter a num:8\n",
      "Edaaaaaabit\n"
     ]
    }
   ],
   "source": [
    "num=int(input(\"enter a num:\"))\n",
    "result=''\n",
    "while num>=1:\n",
    "    result='E'+'d'+'a'*6+'bit'\n",
    "    num-=1\n",
    "print(result)    "
   ]
  },
  {
   "cell_type": "code",
   "execution_count": 2,
   "id": "34612ba9",
   "metadata": {},
   "outputs": [
    {
     "name": "stdout",
     "output_type": "stream",
     "text": [
      "enter a num:6\n",
      "Edaaaaaabit\n"
     ]
    }
   ],
   "source": [
    "num =int(input(\"enter a num:\"))\n",
    "result=''\n",
    "for i in range(num):\n",
    "       result='E'+'d'+'a'*6+'bit'\n",
    "print(result)        "
   ]
  },
  {
   "cell_type": "markdown",
   "id": "511312be",
   "metadata": {},
   "source": [
    "#### 7.Create a function that returns True if all parameters are truthy, and False otherwise.\n",
    "\n",
    "Examples\n",
    "all_truthy(True, True, True) ➞ True"
   ]
  },
  {
   "cell_type": "code",
   "execution_count": 16,
   "id": "93b8f29b",
   "metadata": {},
   "outputs": [
    {
     "name": "stdout",
     "output_type": "stream",
     "text": [
      "False\n"
     ]
    }
   ],
   "source": [
    "list=[True,False,True]\n",
    "result=True\n",
    "i=0\n",
    "while i<len(list):\n",
    "    if not list[i]:\n",
    "        result=False\n",
    "    i+=1 \n",
    "print(result)  \n"
   ]
  },
  {
   "cell_type": "code",
   "execution_count": 17,
   "id": "20184db6",
   "metadata": {},
   "outputs": [
    {
     "name": "stdout",
     "output_type": "stream",
     "text": [
      "True\n"
     ]
    }
   ],
   "source": [
    "list =[True,True,True]\n",
    "result=True\n",
    "for i in list:\n",
    "    if not i:\n",
    "        result=False\n",
    "        \n",
    "print(result)"
   ]
  },
  {
   "cell_type": "markdown",
   "id": "4bdc706d",
   "metadata": {},
   "source": [
    "#### 8.Buggy Code (Part 5)\n",
    "Mubashir created an infinite loop! Help him by fixing the code in the code tab to pass this challenge. Look at the examples below to get an idea of what the function should do.\n",
    "\n",
    "Examples\n",
    "print_list(1) ➞ [1]\n",
    "\n",
    "print_list(3) ➞ [1, 2, 3]\n",
    "\n",
    "print_list(6) ➞ [1, 2, 3, 4, 5, 6]\n"
   ]
  },
  {
   "cell_type": "code",
   "execution_count": 45,
   "id": "0ce83100",
   "metadata": {},
   "outputs": [
    {
     "name": "stdout",
     "output_type": "stream",
     "text": [
      "[1]\n"
     ]
    }
   ],
   "source": [
    "x=(1)\n",
    "target=1\n",
    "for i in range(1,target+1):\n",
    "    print([i])"
   ]
  },
  {
   "cell_type": "code",
   "execution_count": 42,
   "id": "1ced3de4",
   "metadata": {},
   "outputs": [
    {
     "name": "stdout",
     "output_type": "stream",
     "text": [
      "[1]\n"
     ]
    }
   ],
   "source": [
    "x=(1)\n",
    "target=1\n",
    "i=1\n",
    "while i<=target:\n",
    "    print([i])\n",
    "    i+=1"
   ]
  },
  {
   "cell_type": "markdown",
   "id": "d3f82eab",
   "metadata": {},
   "source": [
    "#### 9.Return last item."
   ]
  },
  {
   "cell_type": "code",
   "execution_count": null,
   "id": "3e2bc3d1",
   "metadata": {},
   "outputs": [],
   "source": [
    "\n",
    "Create a function that returns the last value of the last item in a list or string.\n",
    "\n",
    "Examples\n",
    "last_ind([0, 4, 19, 34, 50, -9, 2]) ➞ 2\n",
    "\n",
    "last_ind(\"The quick brown fox jumped over the lazy dog\") ➞ \"g"
   ]
  },
  {
   "cell_type": "code",
   "execution_count": 2,
   "id": "72f872d3",
   "metadata": {},
   "outputs": [
    {
     "name": "stdout",
     "output_type": "stream",
     "text": [
      "2\n"
     ]
    }
   ],
   "source": [
    "x=[0,4,19,34,50,-9,2]\n",
    "last_value=None\n",
    "while x:\n",
    "    last_value=x[-1]\n",
    "    break\n",
    "print(last_value)    \n",
    "                "
   ]
  },
  {
   "cell_type": "code",
   "execution_count": 4,
   "id": "70598f12",
   "metadata": {},
   "outputs": [
    {
     "name": "stdout",
     "output_type": "stream",
     "text": [
      "2\n"
     ]
    }
   ],
   "source": [
    "x=[0,4,19,34,50,-9,2]\n",
    "last_value=None\n",
    "for i in x:\n",
    "    last_value=x[-1]\n",
    "print(last_value)    \n",
    "                "
   ]
  },
  {
   "cell_type": "markdown",
   "id": "817d2eeb",
   "metadata": {},
   "source": [
    "#### 10.Destructuring Assignment (Ignoring Values)\n",
    "You can assign variables from lists like this:\n",
    "\n",
    "first, _ , last = [1, 2, 8]\n",
    "\n",
    "first   = lst[0]\n",
    "\n",
    "_   = ignores second value (2)\n",
    "\n",
    "last   = lst[-1]\n",
    "\n",
    "print(first) ➞ outputs 1\n",
    "print(last) ➞ outputs 8\n"
   ]
  },
  {
   "cell_type": "code",
   "execution_count": 52,
   "id": "851a74bd",
   "metadata": {},
   "outputs": [
    {
     "name": "stdout",
     "output_type": "stream",
     "text": [
      "1 , 8\n"
     ]
    }
   ],
   "source": [
    "x=[1,2,8]\n",
    "i=0\n",
    "while i<(len(x)-2):\n",
    "    first,_,last=x[i],_,x[i+2]\n",
    "    print(first,',',last)\n",
    "    i+=1"
   ]
  },
  {
   "cell_type": "code",
   "execution_count": 4,
   "id": "6271100b",
   "metadata": {},
   "outputs": [
    {
     "name": "stdout",
     "output_type": "stream",
     "text": [
      "1 , 8\n"
     ]
    }
   ],
   "source": [
    "list=[1,2,8]\n",
    "for i in range(len(list)-2):\n",
    "    first,_,last=list[i],_,list[i+2]\n",
    "    print(first,',',last)\n"
   ]
  },
  {
   "cell_type": "markdown",
   "id": "f4d2f6b7",
   "metadata": {},
   "source": [
    "#### 11.Count Instances of a Character in a String\n",
    "Create a function that takes two strings as arguments and returns the number of times the first string (the single character) is found in the second string.\n",
    "\n",
    "Examples\n",
    "char_count(\"a\", \"edabit\") ➞ 1\n",
    "\n",
    "char_count(\"c\", \"Chamber of secrets\") ➞ 1\n",
    "\n",
    "char_count(\"b\", \"big fat bubble\") ➞ 4\n"
   ]
  },
  {
   "cell_type": "code",
   "execution_count": 11,
   "id": "ec5981f3",
   "metadata": {},
   "outputs": [
    {
     "name": "stdout",
     "output_type": "stream",
     "text": [
      "1\n"
     ]
    }
   ],
   "source": [
    "char=\"a\"\n",
    "string=\"edabit\"\n",
    "while i<len(string):\n",
    "    if string[i]==char:\n",
    "        count+=1\n",
    "    i+=1\n",
    "result=count\n",
    "print(result)"
   ]
  },
  {
   "cell_type": "code",
   "execution_count": 10,
   "id": "e8bbec87",
   "metadata": {},
   "outputs": [
    {
     "name": "stdout",
     "output_type": "stream",
     "text": [
      "1\n"
     ]
    }
   ],
   "source": [
    "char=\"a\"\n",
    "string=\"edabit\"\n",
    "count=0\n",
    "for letter in string:\n",
    "    if letter==char:\n",
    "        count+=1\n",
    "print(count)        "
   ]
  },
  {
   "cell_type": "markdown",
   "id": "21cf098f",
   "metadata": {},
   "source": [
    "#### 12.Find the Index\n",
    "Create a function that takes a list and a string as arguments and returns the index of the string.\n",
    "\n",
    "Examples\n",
    "find_index([\"hi\", \"edabit\", \"fgh\", \"abc\"], \"fgh\") ➞ 2\n"
   ]
  },
  {
   "cell_type": "code",
   "execution_count": 15,
   "id": "a98824eb",
   "metadata": {},
   "outputs": [
    {
     "name": "stdout",
     "output_type": "stream",
     "text": [
      "2\n"
     ]
    }
   ],
   "source": [
    "list=[\"hi\",\"edabit\",\"fgh\",\"abc\"]\n",
    "b=\"fgh\"\n",
    "i=0\n",
    "while i<len(list):\n",
    "    if list[i]==b:\n",
    "        print(i)\n",
    "    i+=1    "
   ]
  },
  {
   "cell_type": "code",
   "execution_count": 19,
   "id": "34e0bfde",
   "metadata": {},
   "outputs": [
    {
     "name": "stdout",
     "output_type": "stream",
     "text": [
      "3\n"
     ]
    }
   ],
   "source": [
    "x=[\"hi\",\"edabit\",\"fgh\",\"abc\"]\n",
    "b=\"fgh\"\n",
    "i=0\n",
    "for i in range(len(x)):\n",
    "    if x[i]==b:\n",
    "        index=i\n",
    "print(i)        \n",
    "            "
   ]
  },
  {
   "cell_type": "markdown",
   "id": "a30c888c",
   "metadata": {},
   "source": [
    "#### 13.Recreating a len() Function\n",
    "Create a function which returns the length of a string, without using len().\n",
    "\n",
    "Examples\n",
    "length(\"Hello World\") ➞ 11\n"
   ]
  },
  {
   "cell_type": "code",
   "execution_count": 11,
   "id": "b93c562a",
   "metadata": {},
   "outputs": [
    {
     "name": "stdout",
     "output_type": "stream",
     "text": [
      "11\n"
     ]
    }
   ],
   "source": [
    "x=(\"hello world\")\n",
    "length=0\n",
    "i=0\n",
    "while i<len(x):    \n",
    "    length+=1\n",
    "    i+=1\n",
    "print(length)"
   ]
  },
  {
   "cell_type": "code",
   "execution_count": 7,
   "id": "6756956d",
   "metadata": {},
   "outputs": [
    {
     "name": "stdout",
     "output_type": "stream",
     "text": [
      "11\n"
     ]
    }
   ],
   "source": [
    "x=(\"hello world\")\n",
    "length=0\n",
    "for i in x:\n",
    "    length+=1\n",
    "print(length)    "
   ]
  },
  {
   "cell_type": "markdown",
   "id": "c80a64b8",
   "metadata": {},
   "source": [
    "#### 14.Create a function that takes a 2D list lst and returns the sum of the minimum value in each row.\n",
    "\n",
    "Examples\n",
    "sum_minimums([\n",
    "  [1, 2, 3, 4, 5],\n",
    "  [5, 6, 7, 8, 9],\n",
    "  [20, 21, 34, 56, 100]\n",
    "]) ➞ 26\n"
   ]
  },
  {
   "cell_type": "code",
   "execution_count": 53,
   "id": "d8638b7a",
   "metadata": {},
   "outputs": [
    {
     "name": "stdout",
     "output_type": "stream",
     "text": [
      "26\n"
     ]
    }
   ],
   "source": [
    "lst=[[1,2,3,4],[5,6,7,8,9],[20,21,34,56,100]]\n",
    "row_index=0\n",
    "result=0\n",
    "while row_index<len(lst):\n",
    "    min_value=min(lst[row_index])\n",
    "    result+=min_value\n",
    "    row_index+=1\n",
    "print(result)    \n"
   ]
  },
  {
   "cell_type": "code",
   "execution_count": 54,
   "id": "e3cbfc8d",
   "metadata": {},
   "outputs": [
    {
     "name": "stdout",
     "output_type": "stream",
     "text": [
      "26\n"
     ]
    }
   ],
   "source": [
    "lst=[[1,2,3,4],[5,6,7,8,9],[20,21,34,56,100]]\n",
    "row_index=0\n",
    "result=0\n",
    "for row in lst:\n",
    "    min_value=min(row)\n",
    "    result+=min_value\n",
    "print(result)    "
   ]
  },
  {
   "cell_type": "markdown",
   "id": "b15d3661",
   "metadata": {},
   "source": [
    "#### 15.Given a letter and a list of words, return whether the letter does not appear in any of the words.\n",
    "\n",
    "Examples\n",
    "forbidden_letter(\"r\", [\"rock\", \"paper\", \"scissors\"]) ➞ False\n",
    "\n",
    "forbidden_letter(\"a\", [\"spoon\", \"fork\", \"knife\"]) ➞ True\n",
    "\n",
    "forbidden_letter(\"m\", []) ➞ True\n"
   ]
  },
  {
   "cell_type": "code",
   "execution_count": 4,
   "id": "5c430564",
   "metadata": {},
   "outputs": [
    {
     "name": "stdout",
     "output_type": "stream",
     "text": [
      "False\n"
     ]
    }
   ],
   "source": [
    "words=[\"rock\",\"paper\",\"scissors\"]\n",
    "result=True\n",
    "i=0\n",
    "letter=\"r\"\n",
    "while i<len(words):\n",
    "    if letter in words[i]:\n",
    "        result=False\n",
    "    i+=1\n",
    "print(result)    \n",
    "    "
   ]
  },
  {
   "cell_type": "code",
   "execution_count": 7,
   "id": "d23186aa",
   "metadata": {},
   "outputs": [
    {
     "name": "stdout",
     "output_type": "stream",
     "text": [
      "True\n"
     ]
    }
   ],
   "source": [
    "words=[\"spoon\",\"fork\",\"knife\"]\n",
    "result=True\n",
    "i=0\n",
    "letter=\"a\"\n",
    "while i<len(words):\n",
    "    if letter in words[i]:\n",
    "        result=False\n",
    "    i+=1\n",
    "print(result)"
   ]
  },
  {
   "cell_type": "code",
   "execution_count": 10,
   "id": "a54432d5",
   "metadata": {},
   "outputs": [
    {
     "name": "stdout",
     "output_type": "stream",
     "text": [
      "True\n"
     ]
    }
   ],
   "source": [
    "words=[\"spoon\",\"fork\",\"knife\"]\n",
    "result=True\n",
    "letter=\"a\"\n",
    "for i in words:\n",
    "    if letter in words:\n",
    "        result=False\n",
    "    \n",
    "print(result)    "
   ]
  },
  {
   "cell_type": "markdown",
   "id": "aca25e6f",
   "metadata": {},
   "source": [
    "#### 16.Factors of a Given Number\n",
    "Create a function that finds each factor of a given number n. Your solution should return a list of the number(s) that meet this criteria.\n",
    "\n",
    "Examples\n",
    "find_factors(9) ➞ [1, 3, 9]\n",
    "# 9 has three factors 1, 3 and 9\n",
    "\n",
    "find_factors(12) ➞ [1, 2, 3, 4, 6, 12]\n",
    "\n",
    "find_factors(20) ➞ [1, 2, 4, 5, 10, 20]\n",
    "\n",
    "find_factors(0) ➞ []\n",
    "# 0 has no factors\n"
   ]
  },
  {
   "cell_type": "code",
   "execution_count": 1,
   "id": "635d5bcb",
   "metadata": {},
   "outputs": [
    {
     "name": "stdout",
     "output_type": "stream",
     "text": [
      "1\n",
      "3\n",
      "9\n"
     ]
    }
   ],
   "source": [
    "num=9\n",
    "i=1\n",
    "while i<=num:\n",
    "    if num%i==0:\n",
    "        print(i)\n",
    "    i+=1 \n",
    "    "
   ]
  },
  {
   "cell_type": "code",
   "execution_count": 1,
   "id": "2ea7d055",
   "metadata": {},
   "outputs": [
    {
     "name": "stdout",
     "output_type": "stream",
     "text": [
      "1\n",
      "2\n",
      "4\n",
      "5\n",
      "10\n",
      "20\n"
     ]
    }
   ],
   "source": [
    "x=20\n",
    "i=1\n",
    "while i<=x:\n",
    "    if x%i==0:\n",
    "        print(i)\n",
    "    i+=1 \n",
    "    "
   ]
  },
  {
   "cell_type": "code",
   "execution_count": 8,
   "id": "15e2ae91",
   "metadata": {},
   "outputs": [
    {
     "name": "stdout",
     "output_type": "stream",
     "text": [
      "[1, 2, 4, 5, 10, 20]\n"
     ]
    }
   ],
   "source": [
    "num=20\n",
    "factors=[]\n",
    "for i in range(1,num+1):\n",
    "    if num%i==0:\n",
    "        factors+=[i]\n",
    "print(factors)            "
   ]
  },
  {
   "cell_type": "code",
   "execution_count": 1,
   "id": "e01eebbd",
   "metadata": {},
   "outputs": [
    {
     "name": "stdout",
     "output_type": "stream",
     "text": [
      "[1, 3, 9]\n"
     ]
    }
   ],
   "source": [
    "x=9\n",
    "factors=[]\n",
    "for i in range(1,x+1):\n",
    "    if x%i==0:\n",
    "        factors+=[i]\n",
    "print(factors)            "
   ]
  },
  {
   "cell_type": "markdown",
   "id": "9c2897e3",
   "metadata": {},
   "source": [
    "#### 17.Reverse the Case\n",
    "Given a string, create a function to reverse the case. All lower-cased letters should be upper-cased, and vice versa.\n",
    "\n",
    "Examples\n",
    "reverse_case(\"Happy Birthday\") ➞ \"hAPPY bIRTHDAY\"\n",
    "\n",
    "reverse_case(\"MANY THANKS\") ➞ \"many thanks\"\n",
    "\n",
    "reverse_case(\"sPoNtAnEoUs\") ➞ \"SpOnTaNeOuS\"\n"
   ]
  },
  {
   "cell_type": "code",
   "execution_count": 16,
   "id": "4d3e27a9",
   "metadata": {},
   "outputs": [
    {
     "name": "stdout",
     "output_type": "stream",
     "text": [
      "hAPPY bIRTHDAY"
     ]
    }
   ],
   "source": [
    "x=(\"Happy Birthday\")\n",
    "i=0\n",
    "while i<len(x):\n",
    "    print(x[i].swapcase(),end=\"\")\n",
    "    i+=1"
   ]
  },
  {
   "cell_type": "code",
   "execution_count": 20,
   "id": "4b88016c",
   "metadata": {},
   "outputs": [
    {
     "name": "stdout",
     "output_type": "stream",
     "text": [
      "hAPPY bIRTHDAY"
     ]
    }
   ],
   "source": [
    "x=(\"Happy Birthday\")\n",
    "for i in range(len(x)):\n",
    "    print(x[i].swapcase(),end=\"\")"
   ]
  },
  {
   "cell_type": "markdown",
   "id": "74d66f17",
   "metadata": {},
   "source": [
    "#### 18.Hashes and Pluses\n",
    "Create a function that returns the number of hashes and pluses in a string.\n",
    "\n",
    "Examples\n",
    "hash_plus_count(\"###+\") ➞ [3, 1]\n",
    "\n",
    "hash_plus_count(\"##+++#\") ➞ [3, 3]\n",
    "\n",
    "hash_plus_count(\"#+++#+#++#\") ➞ [4, 6]\n",
    "\n",
    "hash_plus_count(\"\") ➞ [0, 0]\n"
   ]
  },
  {
   "cell_type": "code",
   "execution_count": 29,
   "id": "9f9b3131",
   "metadata": {},
   "outputs": [
    {
     "name": "stdout",
     "output_type": "stream",
     "text": [
      "number of hashes 3\n"
     ]
    }
   ],
   "source": [
    "x=\"###+\"\n",
    "count=0\n",
    "for i in range(len(x)):\n",
    "    if x[i]==\"#\":\n",
    "        count+=1\n",
    "print(\"number of hashes\",count)    "
   ]
  },
  {
   "cell_type": "code",
   "execution_count": 3,
   "id": "a60962d1",
   "metadata": {},
   "outputs": [
    {
     "name": "stdout",
     "output_type": "stream",
     "text": [
      "result (3, 1)\n"
     ]
    }
   ],
   "source": [
    "x=(\"###+\")\n",
    "count_plus=0\n",
    "count_hash=0\n",
    "for i in range(len(x)):\n",
    "    if x[i]==\"#\":\n",
    "        count_hash+=1\n",
    "    elif x[i]==\"+\":\n",
    "        count_plus+=1\n",
    "result=(count_hash,count_plus)\n",
    "print(\"result\",result)\n",
    "          "
   ]
  },
  {
   "cell_type": "code",
   "execution_count": 1,
   "id": "19776fac",
   "metadata": {},
   "outputs": [
    {
     "name": "stdout",
     "output_type": "stream",
     "text": [
      "result (3, 1)\n"
     ]
    }
   ],
   "source": [
    "x=(\"###+\")\n",
    "count_hash=0\n",
    "count_plus=0\n",
    "i=0\n",
    "while i<len(x):\n",
    "    if x[i]==\"#\":\n",
    "        count_hash+=1\n",
    "    elif x[i]==\"+\":\n",
    "        count_plus+=1\n",
    "    i+=1\n",
    "result=(count_hash,count_plus)\n",
    "print(\"result\",result)\n",
    "          "
   ]
  },
  {
   "cell_type": "markdown",
   "id": "8b8cf250",
   "metadata": {},
   "source": [
    "#### 19.Sum of the Odd Numbers\n",
    "Create a function which returns the total of all odd numbers up to and including n. n will be given as an odd number.\n",
    "\n",
    "Examples\n",
    "add_odd_to_n(5) ➞ 9\n",
    "# 1 + 3 + 5 = 9\n",
    "\n",
    "add_odd_to_n(13) ➞ 49\n",
    "\n",
    "add_odd_to_n(47) ➞ 576\n"
   ]
  },
  {
   "cell_type": "code",
   "execution_count": 3,
   "id": "afd2e7f2",
   "metadata": {},
   "outputs": [
    {
     "name": "stdout",
     "output_type": "stream",
     "text": [
      "sum of odd numbers: 5\n"
     ]
    }
   ],
   "source": [
    "n=9\n",
    "i=0\n",
    "count_odd=0\n",
    "while i<=n:\n",
    "    if i%2!=0:\n",
    "        count_odd+=1\n",
    "    i+=1 \n",
    "print(\"sum of odd numbers:\",count_odd)    "
   ]
  },
  {
   "cell_type": "code",
   "execution_count": 4,
   "id": "844f3317",
   "metadata": {},
   "outputs": [
    {
     "name": "stdout",
     "output_type": "stream",
     "text": [
      "sum of odd numbers: 5\n"
     ]
    }
   ],
   "source": [
    "n=9\n",
    "count_odd=0\n",
    "for i in range(1,11):\n",
    "    if i%2!=0:\n",
    "        count_odd+=1\n",
    "print(\"sum of odd numbers:\",count_odd)          "
   ]
  },
  {
   "cell_type": "markdown",
   "id": "01912485",
   "metadata": {},
   "source": [
    "#### 20.Summing the Squares\n",
    "Create a function that takes a number n and returns the sum of all square numbers up to and including n.\n",
    "\n",
    "squares_sum(3) ➞ 14\n",
    "# 1² + 2² + 3² =\n",
    "# 1 + 4 + 9 =\n",
    "# 14\n",
    "Examples\n",
    "squares_sum(3) ➞ 14\n",
    "\n",
    "squares_sum(12) ➞ 650\n",
    "\n",
    "squares_sum(13) ➞ 819\n"
   ]
  },
  {
   "cell_type": "code",
   "execution_count": 3,
   "id": "cb9705e8",
   "metadata": {},
   "outputs": [
    {
     "name": "stdout",
     "output_type": "stream",
     "text": [
      "sum of square number: 14\n"
     ]
    }
   ],
   "source": [
    "x=3\n",
    "total=0\n",
    "i=1\n",
    "while i<=x:\n",
    "    total+=i**2\n",
    "    i+=1\n",
    "print(\"sum of square number:\",total)    "
   ]
  },
  {
   "cell_type": "code",
   "execution_count": 5,
   "id": "aa935b4e",
   "metadata": {},
   "outputs": [
    {
     "name": "stdout",
     "output_type": "stream",
     "text": [
      "sum of square number: 14\n"
     ]
    }
   ],
   "source": [
    "n=3\n",
    "total =0\n",
    "for i in range(1,n+1):\n",
    "    total+=i**2\n",
    "print(\"sum of square number:\",total)    \n",
    "    "
   ]
  },
  {
   "cell_type": "markdown",
   "id": "8e766612",
   "metadata": {},
   "source": [
    "#### 21.Negate the List of Numbers\n",
    "Given a list of numbers, negate all elements contained within.\n",
    "\n",
    "Negating a positive value -+n will return -n, because all +'s are removed.\n",
    "Negating a negative value --n will return n, because the first - turns the second minus into a +.\n",
    "Example\n",
    "\n",
    "Examples\n",
    "negate([1, 2, 3, 4]) ➞ [-1, -2, -3, -4]\n",
    "\n",
    "negate([-1, 2, -3, 4]) ➞ [1, -2, 3, -4]\n",
    "\n",
    "negate([]) ➞ []\n"
   ]
  },
  {
   "cell_type": "code",
   "execution_count": 6,
   "id": "784a3dee",
   "metadata": {},
   "outputs": [
    {
     "name": "stdout",
     "output_type": "stream",
     "text": [
      "[-1, -2, -3, -4]\n"
     ]
    }
   ],
   "source": [
    "num=([1,2,3,4])\n",
    "i=0\n",
    "while i<len(num):\n",
    "    num[i]=-num[i]\n",
    "    i+=1\n",
    "    \n",
    "print(num)"
   ]
  },
  {
   "cell_type": "code",
   "execution_count": 7,
   "id": "7c37ab1e",
   "metadata": {},
   "outputs": [
    {
     "name": "stdout",
     "output_type": "stream",
     "text": [
      "[-1, -2, -3, -4]\n"
     ]
    }
   ],
   "source": [
    "num=([1,2,3,4])\n",
    "for i in range(len(num)):\n",
    "    num[i]=-num[i]\n",
    "print(num)    "
   ]
  },
  {
   "cell_type": "markdown",
   "id": "2022842d",
   "metadata": {},
   "source": [
    "#### 22.Additive Inverse\n",
    "A number added with its additive inverse equals zero. Create a function that returns a list of additive inverses.\n",
    "\n",
    "Examples\n",
    "additive_inverse([5, -7, 8, 3]) ➞ [-5, 7, -8, -3]\n",
    "\n",
    "additive_inverse([1, 1, 1, 1, 1]) ➞ [-1, -1, -1, -1, -1]\n",
    "\n",
    "additive_inverse([-5, -25, 35]) ➞ [5, 25, -35]\n"
   ]
  },
  {
   "cell_type": "code",
   "execution_count": 11,
   "id": "39a69400",
   "metadata": {},
   "outputs": [
    {
     "name": "stdout",
     "output_type": "stream",
     "text": [
      "[-5, 7, -8, -3]\n"
     ]
    }
   ],
   "source": [
    "num=[5,-7,8,3]\n",
    "inverse=[]\n",
    "i=0\n",
    "while i<len(num):\n",
    "    inverse.append(-num[i])\n",
    "    i+=1\n",
    "print(inverse)    "
   ]
  },
  {
   "cell_type": "code",
   "execution_count": 12,
   "id": "f2b1aae1",
   "metadata": {},
   "outputs": [
    {
     "name": "stdout",
     "output_type": "stream",
     "text": [
      "[-5, 7, -8, -3]\n"
     ]
    }
   ],
   "source": [
    "num=[5,-7,8,3]\n",
    "inverse=[]\n",
    "for num in num:\n",
    "    inverse.append(-num)\n",
    "print(inverse)    "
   ]
  },
  {
   "cell_type": "markdown",
   "id": "68eeb894",
   "metadata": {},
   "source": [
    "#### 23.Add a Consecutive List of Numbers\n",
    "Write a function that takes the last number of a consecutive list of numbers and returns the total of all numbers up to and including it.\n",
    "\n",
    "Examples\n",
    "add_up_to(3) ➞ 6\n",
    "# 1 + 2 + 3 = 6\n",
    "\n",
    "add_up_to(10) ➞ 55\n",
    "# 1 + 2 + 3 + ... + 10 = 55\n",
    "\n",
    "add_up_to(7) ➞ 28\n",
    "# 1 + 2 + 3 + ... + 7 = 28\n"
   ]
  },
  {
   "cell_type": "code",
   "execution_count": 13,
   "id": "685be414",
   "metadata": {},
   "outputs": [
    {
     "name": "stdout",
     "output_type": "stream",
     "text": [
      "6\n"
     ]
    }
   ],
   "source": [
    "num=3\n",
    "total=0\n",
    "i=1\n",
    "while i<=num:\n",
    "    total+=i\n",
    "    i+=1\n",
    "print(total)    "
   ]
  },
  {
   "cell_type": "code",
   "execution_count": 15,
   "id": "89e46790",
   "metadata": {},
   "outputs": [
    {
     "name": "stdout",
     "output_type": "stream",
     "text": [
      "6\n"
     ]
    }
   ],
   "source": [
    "x=3\n",
    "total=0\n",
    "for i in range(1,x+1):\n",
    "    total+=i\n",
    "print(total)    \n"
   ]
  },
  {
   "cell_type": "markdown",
   "id": "6695b46c",
   "metadata": {},
   "source": [
    "#### 24.Give Me the Even Numbers\n",
    "Create a function that takes two parameters (start, stop), and returns the sum of all even numbers in the range.\n",
    "\n",
    "Examples\n",
    "sum_even_nums_in_range(10, 20) ➞ 90\n",
    "# 10, 12, 14, 16, 18, 20\n",
    "\n",
    "sum_even_nums_in_range(51, 150) ➞ 5050\n",
    "\n",
    "sum_even_nums_in_range(63, 97) ➞ 1360\n"
   ]
  },
  {
   "cell_type": "code",
   "execution_count": 26,
   "id": "e849037f",
   "metadata": {},
   "outputs": [
    {
     "name": "stdout",
     "output_type": "stream",
     "text": [
      "90\n"
     ]
    }
   ],
   "source": [
    "start=10\n",
    "stop=20\n",
    "num=start\n",
    "sum_even=0\n",
    "while num<=20:\n",
    "    if num%2==0:\n",
    "        sum_even+=num\n",
    "    num+=1\n",
    "print(sum_even)        "
   ]
  },
  {
   "cell_type": "code",
   "execution_count": 27,
   "id": "9516bd85",
   "metadata": {},
   "outputs": [
    {
     "name": "stdout",
     "output_type": "stream",
     "text": [
      "90\n"
     ]
    }
   ],
   "source": [
    "start=10\n",
    "stop=20\n",
    "sum_even=0\n",
    "for num in range(start,stop+1):\n",
    "    if num%2==0:\n",
    "        sum_even+=num\n",
    "print(sum_even)        \n"
   ]
  },
  {
   "cell_type": "markdown",
   "id": "3bac89b9",
   "metadata": {},
   "source": [
    "#### 25.List of Consecutive Numbers\n",
    "Implement a function that returns a list containing all the consecutive numbers in ascendant order from the given value low up to the given value high (bounds included).\n",
    "\n",
    "Examples\n",
    "get_sequence(1, 5) ➞ [1, 2, 3, 4, 5]\n",
    "\n",
    "get_sequence(98, 100) ➞ [98, 99, 100]\n",
    "\n",
    "get_sequence(1000, 1000) ➞ [1000]\n"
   ]
  },
  {
   "cell_type": "code",
   "execution_count": 6,
   "id": "5f290361",
   "metadata": {},
   "outputs": [
    {
     "ename": "AttributeError",
     "evalue": "'int' object has no attribute 'append'",
     "output_type": "error",
     "traceback": [
      "\u001b[1;31m---------------------------------------------------------------------------\u001b[0m",
      "\u001b[1;31mAttributeError\u001b[0m                            Traceback (most recent call last)",
      "Cell \u001b[1;32mIn[6], line 6\u001b[0m\n\u001b[0;32m      4\u001b[0m number\u001b[38;5;241m=\u001b[39mstart\n\u001b[0;32m      5\u001b[0m \u001b[38;5;28;01mwhile\u001b[39;00m number\u001b[38;5;241m<\u001b[39m\u001b[38;5;241m=\u001b[39mstop:\n\u001b[1;32m----> 6\u001b[0m     number\u001b[38;5;241m.\u001b[39mappend(number)\n\u001b[0;32m      7\u001b[0m     number\u001b[38;5;241m+\u001b[39m\u001b[38;5;241m=\u001b[39m\u001b[38;5;241m1\u001b[39m\n\u001b[0;32m      8\u001b[0m \u001b[38;5;28mprint\u001b[39m(number)\n",
      "\u001b[1;31mAttributeError\u001b[0m: 'int' object has no attribute 'append'"
     ]
    }
   ],
   "source": [
    "start=1\n",
    "stop=5\n",
    "number=[]\n",
    "number=start\n",
    "while number<=stop:\n",
    "    number.append(number)\n",
    "    number+=1\n",
    "print(number)    "
   ]
  },
  {
   "cell_type": "code",
   "execution_count": 38,
   "id": "19945304",
   "metadata": {},
   "outputs": [
    {
     "name": "stdout",
     "output_type": "stream",
     "text": [
      "[1, 2, 3, 4, 5]\n"
     ]
    }
   ],
   "source": [
    "start=1\n",
    "stop=5\n",
    "numbers=[]\n",
    "for number in range(start,stop+1):\n",
    "    numbers.append(number)\n",
    "print(numbers)    \n"
   ]
  },
  {
   "cell_type": "markdown",
   "id": "e8e59d59",
   "metadata": {},
   "source": [
    "#### 26.Find the Index (Part 1)\n",
    "Create a function that finds the index of a given item.\n",
    "\n",
    "Examples\n",
    "search([1, 5, 3], 5) ➞ 1\n",
    "\n",
    "search([9, 8, 3], 3) ➞ 2\n",
    "\n",
    "search([1, 2, 3], 4) ➞ -1\n"
   ]
  },
  {
   "cell_type": "code",
   "execution_count": 1,
   "id": "a4281578",
   "metadata": {},
   "outputs": [
    {
     "name": "stdout",
     "output_type": "stream",
     "text": [
      "index of5:1\n"
     ]
    }
   ],
   "source": [
    "x=[(1,5,6)]\n",
    "target=5\n",
    "i=0\n",
    "while i<len(x):\n",
    "    if x[i]==target:\n",
    "        break\n",
    "    i+=1\n",
    "print(f'index of{target}:{i}')   "
   ]
  },
  {
   "cell_type": "code",
   "execution_count": 12,
   "id": "7ee21c0a",
   "metadata": {},
   "outputs": [
    {
     "name": "stdout",
     "output_type": "stream",
     "text": [
      "index of 5:1\n"
     ]
    }
   ],
   "source": [
    "x=[(1,5,6),5]\n",
    "target=5\n",
    "i=-1\n",
    "for i in range(len(x)):\n",
    "    if target in x[i]:\n",
    "        i=1\n",
    "        break\n",
    "print(f'index of {target}:{i}')        \n",
    "        "
   ]
  },
  {
   "cell_type": "markdown",
   "id": "d8819c5c",
   "metadata": {},
   "source": [
    "#### 27.Count the Capital Letters\n",
    "Given a string of letters, how many capital letters are there?\n",
    "\n",
    "Examples\n",
    "capital_letters(\"fvLzpxmgXSDrobbgMVrc\") ➞ 6\n",
    "\n",
    "capital_letters(\"JMZWCneOTFLWYwBWxyFw\") ➞ 14\n",
    "\n",
    "capital_letters(\"mqeytbbjwqemcdrdsyvq\") ➞ 0\n"
   ]
  },
  {
   "cell_type": "code",
   "execution_count": 2,
   "id": "958e6b03",
   "metadata": {},
   "outputs": [
    {
     "name": "stdout",
     "output_type": "stream",
     "text": [
      "6\n"
     ]
    }
   ],
   "source": [
    "x=(\"fvLzpxmgXSDrobbgMVrc\")\n",
    "count=0\n",
    "i=0\n",
    "while i<len(x):\n",
    "    if x[i].isupper():\n",
    "        count+=1\n",
    "    i+=1\n",
    "print(count)    \n"
   ]
  },
  {
   "cell_type": "code",
   "execution_count": 7,
   "id": "877d282d",
   "metadata": {},
   "outputs": [
    {
     "name": "stdout",
     "output_type": "stream",
     "text": [
      "6\n"
     ]
    }
   ],
   "source": [
    "x=(\"fvLzpxmgXSDrobbgMVrc\")\n",
    "count=0\n",
    "for letter in x:\n",
    "    if letter.isupper():\n",
    "        count+=1\n",
    "print(count)    \n"
   ]
  },
  {
   "cell_type": "markdown",
   "id": "2351c851",
   "metadata": {},
   "source": [
    "#### 28.N Tables + 1\n",
    "Create a function that takes a number num and returns the first 10 multiples of num with 1 added to it, separated by commas.\n",
    "\n",
    "Examples\n",
    "n_tables_plus_one(7) ➞ \"8,15,22,29,36,43,50,57,64,71\"\n"
   ]
  },
  {
   "cell_type": "code",
   "execution_count": 13,
   "id": "812821b9",
   "metadata": {},
   "outputs": [
    {
     "name": "stdout",
     "output_type": "stream",
     "text": [
      "Enter number:7\n",
      "the multiplication are:\n",
      "8 15 22 29 36 43 50 57 64 71 "
     ]
    }
   ],
   "source": [
    "x=int(input(\"Enter number:\"))\n",
    "print(\"the multiplication are:\")\n",
    "for i in range(1,11):\n",
    "    print(x*i+1,end=' ')"
   ]
  },
  {
   "cell_type": "code",
   "execution_count": 22,
   "id": "bdc5ef3b",
   "metadata": {},
   "outputs": [
    {
     "name": "stdout",
     "output_type": "stream",
     "text": [
      "enter number7\n",
      "the mulplication are:\n",
      "8 15 22 29 36 43 50 57 64 71 "
     ]
    }
   ],
   "source": [
    "x=int(input(\"enter number\"))\n",
    "print(\"the mulplication are:\")\n",
    "i=1\n",
    "while i<=10:\n",
    "    print(x*i+1,end=\" \")\n",
    "    i+=1"
   ]
  },
  {
   "cell_type": "markdown",
   "id": "5841d492",
   "metadata": {},
   "source": [
    "#### 29.Count Instances of a Character in a String\n",
    "Create a function that takes two strings as arguments and returns the number of times the first string (the single character) is found in the second string.\n",
    "\n",
    "Examples\n",
    "char_count(\"a\", \"edabit\") ➞ 1ca\n",
    "\n",
    "char_count(\"c\", \"Chamber of secrets\") ➞ 1\n",
    "\n",
    "char_count(\"b\", \"big fat bubble\") ➞ 4\n"
   ]
  },
  {
   "cell_type": "code",
   "execution_count": 6,
   "id": "7a4241f5",
   "metadata": {},
   "outputs": [
    {
     "name": "stdout",
     "output_type": "stream",
     "text": [
      "1\n"
     ]
    }
   ],
   "source": [
    "char=(\"c\")\n",
    "x=(\"Chamber of secrets\")\n",
    "count=0\n",
    "i=0\n",
    "while i<len(x):\n",
    "    if x[i]==char:\n",
    "        count+=1\n",
    "    i+=1\n",
    "print(count)    "
   ]
  },
  {
   "cell_type": "code",
   "execution_count": 5,
   "id": "987a4d0a",
   "metadata": {},
   "outputs": [
    {
     "name": "stdout",
     "output_type": "stream",
     "text": [
      "4\n"
     ]
    }
   ],
   "source": [
    "char=(\"b\")\n",
    "x=(\"big fat bubble\")\n",
    "count=0\n",
    "for i in range(len(x)):\n",
    "    if x[i]==char:\n",
    "        count+=1\n",
    "print(count)        "
   ]
  },
  {
   "cell_type": "markdown",
   "id": "f8d04acb",
   "metadata": {},
   "source": [
    "#### 30.Recreating a len() Function\n",
    "Create a function which returns the length of a string, without using len().\n",
    "\n",
    "Examples\n",
    "length(\"Hello World\") ➞ 11\n",
    "\n",
    "length(\"Edabit\") ➞ 6\n",
    "\n",
    "length(\"wash your hands!\") ➞ 16\n"
   ]
  },
  {
   "cell_type": "code",
   "execution_count": 21,
   "id": "856d49f2",
   "metadata": {},
   "outputs": [
    {
     "name": "stdout",
     "output_type": "stream",
     "text": [
      "11\n"
     ]
    }
   ],
   "source": [
    "x=(\"Hello World\")\n",
    "count=0\n",
    "i=0\n",
    "while x[i:]:\n",
    "    count+=1\n",
    "    i+=1\n",
    "print(count)    \n",
    "    "
   ]
  },
  {
   "cell_type": "code",
   "execution_count": 22,
   "id": "7fbf8619",
   "metadata": {},
   "outputs": [
    {
     "name": "stdout",
     "output_type": "stream",
     "text": [
      "11\n"
     ]
    }
   ],
   "source": [
    "x=(\"Hello World\")\n",
    "count=0\n",
    "for char in x:\n",
    "    count+=1\n",
    "print(count)    "
   ]
  },
  {
   "cell_type": "markdown",
   "id": "7278bcbe",
   "metadata": {},
   "source": [
    "### 31.Convert Number to String of Dashes\n",
    "Create a function that takes a number (from 1 - 60) and returns a corresponding string of hyphens.\n",
    "\n",
    "Examples\n",
    "num_to_dashes(1) ➞ \"-\"\n",
    "\n",
    "num_to_dashes(5) ➞ \"-----\"\n",
    "\n",
    "num_to_dashes(3) ➞ \"---\"\n"
   ]
  },
  {
   "cell_type": "code",
   "execution_count": 14,
   "id": "e999e36b",
   "metadata": {},
   "outputs": [
    {
     "name": "stdout",
     "output_type": "stream",
     "text": [
      "---\n"
     ]
    }
   ],
   "source": [
    "num=(3)\n",
    "hyphens =\"\"\n",
    "count=0\n",
    "while count<num:\n",
    "    hyphens+=\"-\"\n",
    "    count+=1\n",
    "print(hyphens)    "
   ]
  },
  {
   "cell_type": "code",
   "execution_count": 7,
   "id": "7820a255",
   "metadata": {},
   "outputs": [
    {
     "name": "stdout",
     "output_type": "stream",
     "text": [
      "-----\n"
     ]
    }
   ],
   "source": [
    "num=5\n",
    "hyphens=\"\"\n",
    "count=0\n",
    "while count<num:\n",
    "    hyphens+=\"-\"\n",
    "    count+=1\n",
    "print(hyphens) "
   ]
  },
  {
   "cell_type": "markdown",
   "id": "6c8c35f3",
   "metadata": {},
   "source": [
    "#### 32.Word Endings\n",
    "Create a function that adds a string ending to each member in a list.\n",
    "\n",
    "Examples\n",
    "add_ending([\"clever\", \"meek\", \"hurried\", \"nice\"], \"ly\")\n",
    "➞ [\"cleverly\", \"meekly\", \"hurriedly\", \"nicely\"]\n",
    "\n",
    "add_ending([\"new\", \"pander\", \"scoop\"], \"er\")\n",
    "➞ [\"newer\", \"panderer\", \"scooper\"]\n",
    "\n",
    "add_ending([\"bend\", \"sharpen\", \"mean\"], \"ing\")\n",
    "➞ [\"bending\", \"sharpening\", \"meaning\"]\n"
   ]
  },
  {
   "cell_type": "code",
   "execution_count": 29,
   "id": "7f736af5",
   "metadata": {},
   "outputs": [
    {
     "name": "stdout",
     "output_type": "stream",
     "text": [
      "['cleverly', 'meekly', 'hurriedly', 'nicely']\n"
     ]
    }
   ],
   "source": [
    "x=[\"clever\",\"meek\",\"hurried\",\"nice\"]\n",
    "ending=\"ly\"\n",
    "i=0\n",
    "while i<len(x):\n",
    "    x[i]+=ending\n",
    "    i+=1\n",
    "print(x)    "
   ]
  },
  {
   "cell_type": "code",
   "execution_count": 30,
   "id": "45a4ef76",
   "metadata": {},
   "outputs": [
    {
     "name": "stdout",
     "output_type": "stream",
     "text": [
      "['cleverly', 'meekly', 'hurriedly', 'nicely']\n"
     ]
    }
   ],
   "source": [
    "x=[\"clever\",\"meek\",\"hurried\",\"nice\"]\n",
    "ending=\"ly\"\n",
    "for i in range(len(x)):\n",
    "    x[i]+=ending\n",
    "print(x)    "
   ]
  },
  {
   "cell_type": "markdown",
   "id": "800a1a87",
   "metadata": {},
   "source": [
    "#### 33.Sum of Cubes\n",
    "Create a function that takes a list of numbers and returns the sum of its cubes.\n",
    "\n",
    "Examples\n",
    "sum_of_cubes([1, 5, 9]) ➞ 855\n",
    "# Since 1^3 + 5^3 + 9^3 = 1 + 125 + 729 = 855\n",
    "\n",
    "sum_of_cubes([3, 4, 5]) ➞ 216\n",
    "\n",
    "sum_of_cubes([2]) ➞ 8\n",
    "\n",
    "sum_of_cubes([]) ➞ 0\n"
   ]
  },
  {
   "cell_type": "code",
   "execution_count": 20,
   "id": "ed4a7d7a",
   "metadata": {},
   "outputs": [
    {
     "name": "stdout",
     "output_type": "stream",
     "text": [
      "216\n"
     ]
    }
   ],
   "source": [
    "x=[3,4,5]\n",
    "sum_of_cubes=0\n",
    "i=0\n",
    "while i<len(x):\n",
    "    sum_of_cubes+=x[i]**3\n",
    "    i+=1\n",
    "print(sum_of_cubes)    "
   ]
  },
  {
   "cell_type": "code",
   "execution_count": 21,
   "id": "bfa7b65f",
   "metadata": {},
   "outputs": [
    {
     "name": "stdout",
     "output_type": "stream",
     "text": [
      "216\n"
     ]
    }
   ],
   "source": [
    "num=[3,4,5]\n",
    "sum_of_cubes=0\n",
    "for num in num:\n",
    "    sum_of_cubes+=num**3\n",
    "print(sum_of_cubes)    "
   ]
  },
  {
   "cell_type": "markdown",
   "id": "21696eb9",
   "metadata": {},
   "source": [
    "#### 34.Generate a Countdown of Numbers in a List\n",
    "Create a function that takes a number as an argument and returns a list of numbers counting down from this number to zero.\n",
    "\n",
    "Examples\n",
    "countdown(5) ➞ [5, 4, 3, 2, 1, 0]\n",
    "\n",
    "countdown(1) ➞ [1, 0]\n",
    "\n",
    "countdown(0) ➞ [0]\n"
   ]
  },
  {
   "cell_type": "code",
   "execution_count": 1,
   "id": "5a1cb0de",
   "metadata": {},
   "outputs": [
    {
     "name": "stdout",
     "output_type": "stream",
     "text": [
      "[5, 4, 3, 2, 1]\n"
     ]
    }
   ],
   "source": [
    "num=5\n",
    "numbers=[]\n",
    "while num>0:\n",
    "    numbers.append(num)\n",
    "    num-=1\n",
    "print(numbers)    "
   ]
  },
  {
   "cell_type": "code",
   "execution_count": 2,
   "id": "d112f63d",
   "metadata": {},
   "outputs": [
    {
     "name": "stdout",
     "output_type": "stream",
     "text": [
      "[5, 4, 3, 2, 1]\n"
     ]
    }
   ],
   "source": [
    "num=5\n",
    "numbers=[]\n",
    "for num in range(num,0,-1):\n",
    "    numbers.append(num)\n",
    "print(numbers)    "
   ]
  },
  {
   "cell_type": "markdown",
   "id": "1ab7132e",
   "metadata": {},
   "source": [
    "#### 35.List from Comma-Delimited String\n",
    "Write a function that turns a comma-delimited list into an array of strings.\n",
    "\n",
    "Examples\n",
    "to_array(\"watermelon, raspberry, orange\")\n",
    "➞ [\"watermelon\", \"raspberry\", \"orange\"]\n",
    "\n",
    "to_array(\"x1, x2, x3, x4, x5\")\n",
    "➞ [\"x1\", \"x2\", \"x3\", \"x4\", \"x5\"]\n",
    "\n",
    "to_array(\"a, b, c, d\")\n",
    "➞ [\"a\", \"b\", \"c\", \"d\"]\n",
    "\n",
    "to_array(\"\")\n",
    "➞ []\n"
   ]
  },
  {
   "cell_type": "code",
   "execution_count": 46,
   "id": "8d8cce7d",
   "metadata": {},
   "outputs": [
    {
     "name": "stdout",
     "output_type": "stream",
     "text": [
      "['watermelon', 'raspberry', 'orange']\n"
     ]
    }
   ],
   "source": [
    "x=(\"watermelon,raspberry,orange\")\n",
    "array=[]\n",
    "word=\"\"\n",
    "i=0\n",
    "while i<len(x):\n",
    "    if x[i]!=\",\":\n",
    "        word+=x[i]\n",
    "    else:\n",
    "        array.append(word.strip())\n",
    "        word=\"\"\n",
    "    i+=1\n",
    "array.append(word.strip())\n",
    "print(array)\n",
    "    "
   ]
  },
  {
   "cell_type": "code",
   "execution_count": 50,
   "id": "2108ac9f",
   "metadata": {},
   "outputs": [
    {
     "name": "stdout",
     "output_type": "stream",
     "text": [
      "['watermelon', 'raspberry', 'orange']\n"
     ]
    }
   ],
   "source": [
    "x=(\"watermelon,raspberry,orange\")\n",
    "array=[]\n",
    "word=\"\"\n",
    "for char in x:\n",
    "    if char!=\",\":\n",
    "        word+=char\n",
    "    else:\n",
    "        array.append(word)\n",
    "        word=\"\"\n",
    "array.append(word) \n",
    "print(array)"
   ]
  },
  {
   "cell_type": "markdown",
   "id": "6d5c13b6",
   "metadata": {},
   "source": [
    "#### 36.Check Factors\n",
    "Write a function that returns True if all integers in a list are factors of a number, and False otherwise.\n",
    "\n",
    "Examples\n",
    "check_factors([2, 3, 4], 12) ➞ True\n",
    "# Since 2, 3, and 4 are all factors of 12.\n",
    "\n",
    "check_factors([1, 2, 3, 8], 12) ➞ False\n",
    "# 8 is not a factor of 12.\n",
    "\n",
    "check_factors([1, 2, 50], 100) ➞ True\n",
    "\n",
    "check_factors([3, 6], 9) ➞ False\n"
   ]
  },
  {
   "cell_type": "code",
   "execution_count": 5,
   "id": "04527c54",
   "metadata": {},
   "outputs": [
    {
     "name": "stdout",
     "output_type": "stream",
     "text": [
      "True\n"
     ]
    }
   ],
   "source": [
    "num=[2,3,4]\n",
    "numbers=12\n",
    "i=0\n",
    "while i<len(num):\n",
    "    if numbers%num[i]!=0:\n",
    "        result=False\n",
    "        break\n",
    "    i+=1\n",
    "else:\n",
    "    result=True\n",
    "print(result)    "
   ]
  },
  {
   "cell_type": "code",
   "execution_count": 6,
   "id": "42400124",
   "metadata": {},
   "outputs": [
    {
     "name": "stdout",
     "output_type": "stream",
     "text": [
      "True\n"
     ]
    }
   ],
   "source": [
    "nums=[2,3,4]\n",
    "number=12\n",
    "result=True\n",
    "for num in nums:\n",
    "    if num%num!=0:\n",
    "        result=False\n",
    "        break\n",
    "print(result)        "
   ]
  },
  {
   "cell_type": "markdown",
   "id": "3c51617e",
   "metadata": {},
   "source": [
    "#### 37.Factorize a Number\n",
    "Create a function that takes a number as its argument and returns a list of all its factors.\n",
    "\n",
    "Examples\n",
    "factorize(12) ➞ [1, 2, 3, 4, 6, 12]\n",
    "\n",
    "factorize(4) ➞ [1, 2, 4]\n",
    "\n",
    "factorize(17) ➞ [1, 17]\n"
   ]
  },
  {
   "cell_type": "code",
   "execution_count": 2,
   "id": "89d67966",
   "metadata": {},
   "outputs": [
    {
     "name": "stdout",
     "output_type": "stream",
     "text": [
      "[2, 2, 3]\n"
     ]
    }
   ],
   "source": [
    "num=12\n",
    "factors=[]\n",
    "divisor=2\n",
    "while num>1:\n",
    "    if num%divisor==0:\n",
    "        factors.append(divisor)\n",
    "        num=num/divisor\n",
    "    else:\n",
    "        divisor+=1\n",
    "print(factors)        "
   ]
  },
  {
   "cell_type": "markdown",
   "id": "a901f5ed",
   "metadata": {},
   "source": [
    "### 38.Index Shuffle\n",
    "Write a function that takes all even-indexed characters and odd-indexed characters from a string and concatenates them together.\n",
    "\n",
    "To illustrate:\n",
    "\n",
    "index_shuffle(\"abcd\") ➞ \"acbd\"\n",
    "// \"ac\" (even-indexed) + \"bd\" (odd-indexed)\n"
   ]
  },
  {
   "cell_type": "code",
   "execution_count": 4,
   "id": "7c45f8b5",
   "metadata": {},
   "outputs": [
    {
     "name": "stdout",
     "output_type": "stream",
     "text": [
      "acbd\n"
     ]
    }
   ],
   "source": [
    "string=(\"abcd\")\n",
    "even_chars=\"\"\n",
    "odd_chars=\"\"\n",
    "i=0\n",
    "while i<len(str):\n",
    "    if i%2==0:\n",
    "        even_chars+=string[i]\n",
    "    else:\n",
    "        odd_chars+=string[i]\n",
    "    i+=1\n",
    "result=even_chars+odd_chars\n",
    "print(result)"
   ]
  },
  {
   "cell_type": "markdown",
   "id": "6d34ac3c",
   "metadata": {},
   "source": [
    "#### 39.Multiply by Length\n",
    "Create a function to multiply all of the values in a list by the amount of values in the given list.\n",
    "\n",
    "Examples\n",
    "multiply_by_length([2, 3, 1, 0]) ➞ [8, 12, 4, 0]\n",
    "\n",
    "multiply_by_length([4, 1, 1]) ➞ ([12, 3, 3])\n",
    "\n",
    "multiply_by_length([1, 0, 3, 3, 7, 2, 1]) ➞  [7, 0, 21, 21, 49, 14, 7]\n",
    "\n",
    "multiply_by_length([0]) ➞ ([0])\n"
   ]
  },
  {
   "cell_type": "code",
   "execution_count": 7,
   "id": "a3793a51",
   "metadata": {},
   "outputs": [
    {
     "name": "stdout",
     "output_type": "stream",
     "text": [
      "[8, 12, 4, 0]\n"
     ]
    }
   ],
   "source": [
    "x=[2,3,1,0]\n",
    "i=0\n",
    "while i<len(x):\n",
    "    x[i]*=len(x)\n",
    "    i+=1\n",
    "print(x)    "
   ]
  },
  {
   "cell_type": "code",
   "execution_count": 8,
   "id": "c2b01f37",
   "metadata": {},
   "outputs": [
    {
     "name": "stdout",
     "output_type": "stream",
     "text": [
      "[8, 12, 4, 0]\n"
     ]
    }
   ],
   "source": [
    "x=[2,3,1,0]\n",
    "new_list=[]\n",
    "for i in range(len(x)):\n",
    "    new_list.append(x[i]*len(x))\n",
    "print(new_list)    "
   ]
  },
  {
   "cell_type": "markdown",
   "id": "d26049a7",
   "metadata": {},
   "source": [
    "### 40.How Many Digits?\n",
    "Given an integer n. Your task is to find how many digits this integer contains without using str or len methods!\n",
    "\n",
    "Examples\n",
    "sum_digits(100) ➞ 3\n",
    "\n",
    "sum_digits(1000) ➞ 4\n",
    "\n",
    "sum_digits(1) ➞ 1\n"
   ]
  },
  {
   "cell_type": "code",
   "execution_count": 9,
   "id": "3ce20e5e",
   "metadata": {},
   "outputs": [
    {
     "name": "stdout",
     "output_type": "stream",
     "text": [
      "3\n"
     ]
    }
   ],
   "source": [
    "n=100\n",
    "count=0\n",
    "while n!=0:\n",
    "    n//=10\n",
    "    count+=1\n",
    "print(count)\n"
   ]
  },
  {
   "cell_type": "code",
   "execution_count": 17,
   "id": "944fd41c",
   "metadata": {},
   "outputs": [
    {
     "name": "stdout",
     "output_type": "stream",
     "text": [
      "3\n"
     ]
    }
   ],
   "source": [
    "n=100\n",
    "count=0\n",
    "for digit in str(n):\n",
    "    count+=1\n",
    "print(count)  "
   ]
  },
  {
   "cell_type": "markdown",
   "id": "baf06d8a",
   "metadata": {},
   "source": [
    "### 41.Sum of Resistance in Series Circuits\n",
    "Create a function that takes an array of values resistance that are connected in series, and calculates the total resistance of the circuit in ohms. The ohm is the standard unit of electrical resistance in the International System of Units ( SI ).\n",
    "\n",
    "Examples\n",
    "series_resistance([1, 5, 6, 3]) ➞ \"15 ohms\"\n",
    "\n",
    "series_resistance([16, 3.5, 6]) ➞ \"25.5 ohms\"\n",
    "\n",
    "series_resistance([0.5, 0.5]) ➞ \"1.0 ohm\"\n"
   ]
  },
  {
   "cell_type": "code",
   "execution_count": 1,
   "id": "b68dc6dd",
   "metadata": {},
   "outputs": [
    {
     "name": "stdout",
     "output_type": "stream",
     "text": [
      "15\n"
     ]
    }
   ],
   "source": [
    "resistance=[1,5,6,3]\n",
    "total_resistance=0\n",
    "i=0\n",
    "while i<len(resistance):\n",
    "    total_resistance+=resistance[i]\n",
    "    i+=1\n",
    "print(total_resistance)    "
   ]
  },
  {
   "cell_type": "code",
   "execution_count": 3,
   "id": "b8264391",
   "metadata": {},
   "outputs": [
    {
     "name": "stdout",
     "output_type": "stream",
     "text": [
      "15\n"
     ]
    }
   ],
   "source": [
    "resistance=[1,5,6,3]\n",
    "total_resistance=0\n",
    "for r in resistance:\n",
    "    total_resistance+=r\n",
    "print(total_resistance)    "
   ]
  },
  {
   "cell_type": "markdown",
   "id": "c9633823",
   "metadata": {},
   "source": [
    "### 42.Instant JAZZ\n",
    "Create a function which concatenates the number 7 to the end of every chord in a list. Ignore all chords which already end with 7.\n",
    "\n",
    "Examples\n",
    "jazzify([\"G\", \"F\", \"C\"]) ➞ [\"G7\", \"F7\", \"C7\"]\n",
    "\n",
    "jazzify([\"Dm\", \"G\", \"E\", \"A\"]) ➞ [\"Dm7\", \"G7\", \"E7\", \"A7\"]\n",
    "\n",
    "jazzify([\"F7\", \"E7\", \"A7\", \"Ab7\", \"Gm7\", \"C7\"]) ➞ [\"F7\", \"E7\", \"A7\", \"Ab7\", \"Gm7\", \"C7\"]\n",
    "\n",
    "jazzify([]) ➞ []\n"
   ]
  },
  {
   "cell_type": "code",
   "execution_count": 4,
   "id": "851b12bb",
   "metadata": {},
   "outputs": [
    {
     "name": "stdout",
     "output_type": "stream",
     "text": [
      "['G7', 'F7', 'C7']\n"
     ]
    }
   ],
   "source": [
    "chords=[\"G\",\"F\",\"C\"]\n",
    "i=0\n",
    "while i<len(chords):\n",
    "    if not chords[i].endswith(\"7\"):\n",
    "        chords[i]+=(\"7\")\n",
    "    i+=1\n",
    "print(chords)    "
   ]
  },
  {
   "cell_type": "code",
   "execution_count": 6,
   "id": "07ea1661",
   "metadata": {},
   "outputs": [
    {
     "name": "stdout",
     "output_type": "stream",
     "text": [
      "['G7', 'F7', 'C7']\n"
     ]
    }
   ],
   "source": [
    "chords=[\"G\",\"F\",\"C\"]\n",
    "for i in range(len(chords)):\n",
    "    if not chords[i].endswith(\"7\"):\n",
    "        chords[i]+=\"7\"\n",
    "print(chords)        "
   ]
  },
  {
   "cell_type": "markdown",
   "id": "8495eb58",
   "metadata": {},
   "source": [
    "### 43.How Many Vowels?\n",
    "Create a function that takes a string and returns the number (count) of vowels contained within it.\n",
    "\n",
    "Examples\n",
    "count_vowels(\"Celebration\") ➞ 5\n",
    "\n",
    "count_vowels(\"Palm\") ➞ 1\n",
    "\n",
    "count_vowels(\"Prediction\") ➞ 4\n"
   ]
  },
  {
   "cell_type": "code",
   "execution_count": 8,
   "id": "c1d3b8f6",
   "metadata": {},
   "outputs": [
    {
     "name": "stdout",
     "output_type": "stream",
     "text": [
      "5\n"
     ]
    }
   ],
   "source": [
    "x=(\"Celebration\")\n",
    "vowels=\"aeiou\"\n",
    "count=0\n",
    "i=0\n",
    "while i<len(x):\n",
    "    if x[i].lower()in vowels:\n",
    "        count+=1\n",
    "    i+=1\n",
    "print(count)    "
   ]
  },
  {
   "cell_type": "code",
   "execution_count": 9,
   "id": "c06c8d2f",
   "metadata": {},
   "outputs": [
    {
     "name": "stdout",
     "output_type": "stream",
     "text": [
      "5\n"
     ]
    }
   ],
   "source": [
    "x=(\"Celebration\")\n",
    "vowels=\"aeiou\"\n",
    "count=0\n",
    "for letter in x:\n",
    "    if letter.lower() in vowels:\n",
    "        count+=1\n",
    "print(count)        "
   ]
  },
  {
   "cell_type": "markdown",
   "id": "6bab363a",
   "metadata": {},
   "source": [
    "### 44.Find the Odd Integer\n",
    "Create a function that takes a list and finds the integer which appears an odd number of times.\n",
    "\n",
    "Examples\n",
    "find_odd([1, 1, 2, -2, 5, 2, 4, 4, -1, -2, 5]) ➞ -1\n",
    "\n",
    "find_odd([20, 1, 1, 2, 2, 3, 3, 5, 5, 4, 20, 4, 5]) ➞ 5\n",
    "\n",
    "find_odd([10]) ➞ 10\n"
   ]
  },
  {
   "cell_type": "code",
   "execution_count": 20,
   "id": "c1387fe8",
   "metadata": {},
   "outputs": [
    {
     "name": "stdout",
     "output_type": "stream",
     "text": [
      "[1, 1, 5, -1, 5]\n"
     ]
    }
   ],
   "source": [
    "numbers=[1,1,2,-2,5,2,4,4,-1,-2,5]\n",
    "odd_num=[]\n",
    "for num in numbers:\n",
    "    if num%2!=0:\n",
    "        odd_num.append(num)\n",
    "print(odd_num)        "
   ]
  },
  {
   "cell_type": "markdown",
   "id": "6fcf54e4",
   "metadata": {},
   "source": [
    "### 45.Filter out Strings from an Array\n",
    "Create a function that takes a list of non-negative integers and strings and return a new list without the strings.\n",
    "\n",
    "Examples\n",
    "filter_list([1, 2, \"a\", \"b\"]) ➞ [1, 2]\n",
    "\n",
    "filter_list([1, \"a\", \"b\", 0, 15]) ➞ [1, 0, 15]\n",
    "\n",
    "filter_list([1, 2, \"aasf\", \"1\", \"123\", 123]) ➞ [1, 2, 123]\n"
   ]
  },
  {
   "cell_type": "code",
   "execution_count": 21,
   "id": "4469d0fa",
   "metadata": {},
   "outputs": [
    {
     "name": "stdout",
     "output_type": "stream",
     "text": [
      "[1, 2]\n"
     ]
    }
   ],
   "source": [
    "x=[1,2,\"a\",\"b\"]\n",
    "i=0\n",
    "filter_list=[]\n",
    "while i<len(x):\n",
    "    if type(x[i])!=str:\n",
    "        filter_list.append(x[i])\n",
    "    i+=1\n",
    "print(filter_list)    "
   ]
  },
  {
   "cell_type": "code",
   "execution_count": 22,
   "id": "1674b52b",
   "metadata": {},
   "outputs": [
    {
     "name": "stdout",
     "output_type": "stream",
     "text": [
      "[1, 2]\n"
     ]
    }
   ],
   "source": [
    "x=[1,2,\"a\",\"b\"]\n",
    "filter_list=[]\n",
    "for item in x:\n",
    "    if type(item)!=str:\n",
    "        filter_list.append(item)\n",
    "print(filter_list)        "
   ]
  },
  {
   "cell_type": "markdown",
   "id": "3504e9e9",
   "metadata": {},
   "source": [
    "### 46.Add the Index\n",
    "Given a list of numbers, create a function which returns the list but with each element's index in the list added to itself. This means you add 0 to the number at index 0, add 1 to the number at index 1, etc...\n",
    "\n",
    "Examples\n",
    "add_indexes([0, 0, 0, 0, 0]) ➞ [0, 1, 2, 3, 4]\n",
    "\n",
    "add_indexes([1, 2, 3, 4, 5]) ➞ [1, 3, 5, 7, 9]\n",
    "\n",
    "add_indexes([5, 4, 3, 2, 1]) ➞ [5, 5, 5, 5, 5]\n"
   ]
  },
  {
   "cell_type": "code",
   "execution_count": 23,
   "id": "d6cff6af",
   "metadata": {},
   "outputs": [
    {
     "name": "stdout",
     "output_type": "stream",
     "text": [
      "[0, 1, 2, 3, 4]\n"
     ]
    }
   ],
   "source": [
    "x=[0,0,0,0,0]\n",
    "i=0\n",
    "while i<len(x):\n",
    "    x[i]+=i\n",
    "    i+=1\n",
    "print(x)    "
   ]
  },
  {
   "cell_type": "code",
   "execution_count": 18,
   "id": "257581b0",
   "metadata": {},
   "outputs": [
    {
     "name": "stdout",
     "output_type": "stream",
     "text": [
      "[1, 3, 5, 7, 9]\n"
     ]
    }
   ],
   "source": [
    "x=[1,2,3,4,5]\n",
    "for i in range(len(x)):\n",
    "    x[i]+=i\n",
    "print(x)    "
   ]
  },
  {
   "cell_type": "markdown",
   "id": "1ee81c38",
   "metadata": {},
   "source": [
    "### 47.Return Only the Integer\n",
    "Write a function that takes a list of elements and returns only the integers.\n",
    "\n",
    "Examples\n",
    "return_only_integer([9, 2, \"space\", \"car\", \"lion\", 16]) ➞ [9, 2, 16]\n",
    "\n",
    "return_only_integer([\"hello\", 81, \"basketball\", 123, \"fox\"]) ➞ [81, 123]\n",
    "\n",
    "return_only_integer([10, \"121\", 56, 20, \"car\", 3, \"lion\"]) ➞ [10, 56, 20, 3]\n",
    "\n",
    "return_only_integer([\"String\",  True,  3.3,  1]) ➞ [1]\n"
   ]
  },
  {
   "cell_type": "code",
   "execution_count": 27,
   "id": "55984feb",
   "metadata": {},
   "outputs": [
    {
     "name": "stdout",
     "output_type": "stream",
     "text": [
      "9\n",
      "2\n",
      "16\n"
     ]
    }
   ],
   "source": [
    "x=([9, 2, \"space\", \"car\", \"lion\", 16])\n",
    "i=0\n",
    "while i<len(x):\n",
    "    if type(x[i])==int:\n",
    "        print(x[i])\n",
    "    i+=1\n",
    "    "
   ]
  },
  {
   "cell_type": "code",
   "execution_count": 28,
   "id": "4ca6ca0a",
   "metadata": {},
   "outputs": [
    {
     "name": "stdout",
     "output_type": "stream",
     "text": [
      "9\n",
      "2\n",
      "16\n"
     ]
    }
   ],
   "source": [
    "x=([9, 2, \"space\", \"car\", \"lion\", 16])\n",
    "for i in x:\n",
    "    if type(i)==int:\n",
    "        print(i)"
   ]
  },
  {
   "cell_type": "markdown",
   "id": "1d8dada1",
   "metadata": {},
   "source": [
    "#### 48.Odd Up, Even Down\n",
    "Create a function that goes through the array, incrementing (+1) for each odd-valued number and decrementing (-1) for each even-valued number.\n",
    "\n",
    "Examples\n",
    "transform([1, 2, 3, 4, 5]) ➞ [2, 1, 4, 3, 6]\n",
    "\n",
    "transform([3, 3, 4, 3]) ➞ [4, 4, 3, 4]\n",
    "\n",
    "transform([2, 2, 0, 8, 10]) ➞ [1, 1, -1, 7, 9]\n"
   ]
  },
  {
   "cell_type": "code",
   "execution_count": 29,
   "id": "8c0a8587",
   "metadata": {},
   "outputs": [
    {
     "name": "stdout",
     "output_type": "stream",
     "text": [
      "[2, 1, 4, 3, 6]\n"
     ]
    }
   ],
   "source": [
    "x=[1,2,3,4,5]\n",
    "i=0\n",
    "while i<len(x):\n",
    "    if x[i]%2==0:\n",
    "        x[i]-=1\n",
    "    else:\n",
    "        x[i]+=1\n",
    "    i+=1\n",
    "print(x)    "
   ]
  },
  {
   "cell_type": "code",
   "execution_count": 40,
   "id": "a0254972",
   "metadata": {},
   "outputs": [
    {
     "name": "stdout",
     "output_type": "stream",
     "text": [
      "[4, 4, 3, 4]\n"
     ]
    }
   ],
   "source": [
    "x=[3,3,4,3]\n",
    "for i in range(len(x)):\n",
    "    if x[i]%2==0:\n",
    "        x[i]-=1\n",
    "    else:\n",
    "        x[i]+=1\n",
    "print(x)        "
   ]
  },
  {
   "cell_type": "markdown",
   "id": "0442f6e4",
   "metadata": {},
   "source": [
    "### 49.Find the Mean of All Digits\n",
    "Create a function that returns the mean of all digits.\n",
    "\n",
    "Examples\n",
    "mean(42) ➞ 3\n",
    "\n",
    "mean(12345) ➞ 3\n",
    "\n",
    "mean(666) ➞ 6\n"
   ]
  },
  {
   "cell_type": "code",
   "execution_count": 39,
   "id": "2f66354b",
   "metadata": {},
   "outputs": [
    {
     "name": "stdout",
     "output_type": "stream",
     "text": [
      "3.0\n"
     ]
    }
   ],
   "source": [
    "num=42\n",
    "total=0\n",
    "count=0\n",
    "while num>0:\n",
    "    digit=num%10\n",
    "    total+=digit\n",
    "    count+=1\n",
    "    num//=10\n",
    "mean=total/count\n",
    "print(mean)\n"
   ]
  },
  {
   "cell_type": "code",
   "execution_count": 37,
   "id": "6bb5f6e9",
   "metadata": {},
   "outputs": [
    {
     "name": "stdout",
     "output_type": "stream",
     "text": [
      "3.0\n"
     ]
    }
   ],
   "source": [
    "n=42\n",
    "total=0\n",
    "count=0\n",
    "for digit in str(n):\n",
    "    total+=int(digit)\n",
    "    count+=1\n",
    "mean=total/count\n",
    "print(mean)"
   ]
  },
  {
   "cell_type": "markdown",
   "id": "16801978",
   "metadata": {},
   "source": [
    "### 50.True Ones, False Zeros\n",
    "Create a function which returns a list of booleans, from a given number. Iterating through the number one digit at a time, append True if the digit is 1 and False if it is 0.\n",
    "\n",
    "Examples\n",
    "integer_boolean(\"100101\") ➞ [True, False, False, True, False, True]\n",
    "\n",
    "integer_boolean(\"10\") ➞ [True, False]\n",
    "\n",
    "integer_boolean(\"001\") ➞ [False, False, True]\n"
   ]
  },
  {
   "cell_type": "code",
   "execution_count": 32,
   "id": "24c46b31",
   "metadata": {},
   "outputs": [
    {
     "name": "stdout",
     "output_type": "stream",
     "text": [
      "True False False True False True \n",
      "Number of true values: 3\n",
      "\n",
      "Number of false vlues: 3\n"
     ]
    }
   ],
   "source": [
    "binary_string=(\"100101\")\n",
    "i=0\n",
    "true_count=0\n",
    "false_count=0\n",
    "while i<len(binary_string):\n",
    "    if binary_string[i]=='1':\n",
    "        print(\"True\",end=' ')\n",
    "        true_count+=1\n",
    "    elif binary_string[i]==\"0\":\n",
    "        print(\"False\",end=' ')\n",
    "        false_count+=1\n",
    "    i+=1  \n",
    "print(\"\\nNumber of true values:\",true_count)\n",
    "print(\"\\nNumber of false vlues:\",false_count)\n",
    "    "
   ]
  },
  {
   "cell_type": "code",
   "execution_count": 22,
   "id": "52e72180",
   "metadata": {},
   "outputs": [
    {
     "name": "stdout",
     "output_type": "stream",
     "text": [
      "true false false true false true \n",
      "Number of true values: 3\n",
      "Number of false vlues: 3\n"
     ]
    }
   ],
   "source": [
    "binary_string=\"100101\"\n",
    "true_count=0\n",
    "false_count=0\n",
    "for digit in binary_string:\n",
    "    if digit==\"1\":\n",
    "        print(\"true\",end=' ')\n",
    "        true_count+=1\n",
    "    elif digit==\"0\":\n",
    "        print(\"false\",end=\" \")\n",
    "        false_count+=1\n",
    "print(\"\\nNumber of true values:\",true_count)\n",
    "print(\"Number of false vlues:\",false_count)  \n",
    "\n",
    "           "
   ]
  }
 ],
 "metadata": {
  "kernelspec": {
   "display_name": "Python 3 (ipykernel)",
   "language": "python",
   "name": "python3"
  },
  "language_info": {
   "codemirror_mode": {
    "name": "ipython",
    "version": 3
   },
   "file_extension": ".py",
   "mimetype": "text/x-python",
   "name": "python",
   "nbconvert_exporter": "python",
   "pygments_lexer": "ipython3",
   "version": "3.11.3"
  }
 },
 "nbformat": 4,
 "nbformat_minor": 5
}
