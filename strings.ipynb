{
 "cells": [
  {
   "cell_type": "markdown",
   "id": "516c5470",
   "metadata": {},
   "source": [
    "## String\n",
    "<b>*string is a sequential Data type.<b/>\n",
    "    \n",
    "<b>*String is an immutable data type, meaning that you have created a string , you cannot change.<b/>\n",
    "    \n",
    "<b>*String are surrounded by either single qoute ,double or triple qoute.<b/>    "
   ]
  },
  {
   "cell_type": "code",
   "execution_count": 15,
   "id": "d6fe7848",
   "metadata": {},
   "outputs": [
    {
     "name": "stdout",
     "output_type": "stream",
     "text": [
      "this is string enclosed in a single qoute this is string enclosed in a double qoute this is multiline string enclosed in a triple single qoute\n"
     ]
    }
   ],
   "source": [
    "s1='this is string enclosed in a single qoute'\n",
    "\n",
    "s2=\"this is string enclosed in a double qoute\"\n",
    "s3='''this is multiline string enclosed in a triple single qoute'''\n",
    "\n",
    "print(s1,s2,s3)"
   ]
  },
  {
   "cell_type": "code",
   "execution_count": 7,
   "id": "e9fd4669",
   "metadata": {},
   "outputs": [
    {
     "data": {
      "text/plain": [
       "'can'"
      ]
     },
     "execution_count": 7,
     "metadata": {},
     "output_type": "execute_result"
    }
   ],
   "source": [
    "x='scan the QR code'\n",
    "x[1:4]"
   ]
  },
  {
   "cell_type": "code",
   "execution_count": 10,
   "id": "6f80a747",
   "metadata": {},
   "outputs": [
    {
     "data": {
      "text/plain": [
       "'QR'"
      ]
     },
     "execution_count": 10,
     "metadata": {},
     "output_type": "execute_result"
    }
   ],
   "source": [
    "x='scan the QR code'\n",
    "x[-7:-5]"
   ]
  },
  {
   "cell_type": "code",
   "execution_count": 16,
   "id": "4190fc44",
   "metadata": {},
   "outputs": [
    {
     "data": {
      "text/plain": [
       "'R '"
      ]
     },
     "execution_count": 16,
     "metadata": {},
     "output_type": "execute_result"
    }
   ],
   "source": [
    "x='scan the QR code'\n",
    "x[10:12]"
   ]
  },
  {
   "cell_type": "code",
   "execution_count": 11,
   "id": "922609e2",
   "metadata": {},
   "outputs": [
    {
     "data": {
      "text/plain": [
       "'eo Q'"
      ]
     },
     "execution_count": 11,
     "metadata": {},
     "output_type": "execute_result"
    }
   ],
   "source": [
    "x[:-8:-2]"
   ]
  },
  {
   "cell_type": "markdown",
   "id": "4addec31",
   "metadata": {},
   "source": [
    "## String concatenation\n",
    "<b>String concatenation is the way of combining two strings.<b/>"
   ]
  },
  {
   "cell_type": "code",
   "execution_count": 12,
   "id": "3e9407c5",
   "metadata": {},
   "outputs": [
    {
     "data": {
      "text/plain": [
       "'hihi'"
      ]
     },
     "execution_count": 12,
     "metadata": {},
     "output_type": "execute_result"
    }
   ],
   "source": [
    "x= 'hi'\n",
    "x+x"
   ]
  },
  {
   "cell_type": "code",
   "execution_count": 13,
   "id": "e9f65db9",
   "metadata": {},
   "outputs": [
    {
     "data": {
      "text/plain": [
       "'hihihihihi'"
      ]
     },
     "execution_count": 13,
     "metadata": {},
     "output_type": "execute_result"
    }
   ],
   "source": [
    "x*5"
   ]
  },
  {
   "cell_type": "code",
   "execution_count": 28,
   "id": "a5c22986",
   "metadata": {},
   "outputs": [
    {
     "data": {
      "text/plain": [
       "'the edoc'"
      ]
     },
     "execution_count": 28,
     "metadata": {},
     "output_type": "execute_result"
    }
   ],
   "source": [
    "x='scan the QR code'\n",
    "a=x[5:9]\n",
    "b=x[-1:-5:-1]\n",
    "a+b\n"
   ]
  },
  {
   "cell_type": "code",
   "execution_count": 29,
   "id": "2df913f9",
   "metadata": {},
   "outputs": [
    {
     "data": {
      "text/plain": [
       "(False,)"
      ]
     },
     "execution_count": 29,
     "metadata": {},
     "output_type": "execute_result"
    }
   ],
   "source": [
    "'Scan'in x,"
   ]
  },
  {
   "cell_type": "code",
   "execution_count": 30,
   "id": "06c0b438",
   "metadata": {},
   "outputs": [
    {
     "data": {
      "text/plain": [
       "(True,)"
      ]
     },
     "execution_count": 30,
     "metadata": {},
     "output_type": "execute_result"
    }
   ],
   "source": [
    "'scan'in x,"
   ]
  },
  {
   "cell_type": "code",
   "execution_count": 18,
   "id": "04debc4b",
   "metadata": {},
   "outputs": [
    {
     "data": {
      "text/plain": [
       "'Snowball'"
      ]
     },
     "execution_count": 18,
     "metadata": {},
     "output_type": "execute_result"
    }
   ],
   "source": [
    "x='Snow'\n",
    "y='ball'\n",
    "x+y"
   ]
  },
  {
   "cell_type": "code",
   "execution_count": 20,
   "id": "200de422",
   "metadata": {},
   "outputs": [
    {
     "data": {
      "text/plain": [
       "'colourcombinaton'"
      ]
     },
     "execution_count": 20,
     "metadata": {},
     "output_type": "execute_result"
    }
   ],
   "source": [
    "a=\"colour\"\n",
    "b=\"combinaton\"\n",
    "a+b"
   ]
  },
  {
   "cell_type": "markdown",
   "id": "f4dc8280",
   "metadata": {},
   "source": [
    "## Methods in strings"
   ]
  },
  {
   "cell_type": "code",
   "execution_count": 16,
   "id": "5cd8bad4",
   "metadata": {},
   "outputs": [
    {
     "data": {
      "text/plain": [
       "['__add__',\n",
       " '__class__',\n",
       " '__contains__',\n",
       " '__delattr__',\n",
       " '__dir__',\n",
       " '__doc__',\n",
       " '__eq__',\n",
       " '__format__',\n",
       " '__ge__',\n",
       " '__getattribute__',\n",
       " '__getitem__',\n",
       " '__getnewargs__',\n",
       " '__getstate__',\n",
       " '__gt__',\n",
       " '__hash__',\n",
       " '__init__',\n",
       " '__init_subclass__',\n",
       " '__iter__',\n",
       " '__le__',\n",
       " '__len__',\n",
       " '__lt__',\n",
       " '__mod__',\n",
       " '__mul__',\n",
       " '__ne__',\n",
       " '__new__',\n",
       " '__reduce__',\n",
       " '__reduce_ex__',\n",
       " '__repr__',\n",
       " '__rmod__',\n",
       " '__rmul__',\n",
       " '__setattr__',\n",
       " '__sizeof__',\n",
       " '__str__',\n",
       " '__subclasshook__',\n",
       " 'capitalize',\n",
       " 'casefold',\n",
       " 'center',\n",
       " 'count',\n",
       " 'encode',\n",
       " 'endswith',\n",
       " 'expandtabs',\n",
       " 'find',\n",
       " 'format',\n",
       " 'format_map',\n",
       " 'index',\n",
       " 'isalnum',\n",
       " 'isalpha',\n",
       " 'isascii',\n",
       " 'isdecimal',\n",
       " 'isdigit',\n",
       " 'isidentifier',\n",
       " 'islower',\n",
       " 'isnumeric',\n",
       " 'isprintable',\n",
       " 'isspace',\n",
       " 'istitle',\n",
       " 'isupper',\n",
       " 'join',\n",
       " 'ljust',\n",
       " 'lower',\n",
       " 'lstrip',\n",
       " 'maketrans',\n",
       " 'partition',\n",
       " 'removeprefix',\n",
       " 'removesuffix',\n",
       " 'replace',\n",
       " 'rfind',\n",
       " 'rindex',\n",
       " 'rjust',\n",
       " 'rpartition',\n",
       " 'rsplit',\n",
       " 'rstrip',\n",
       " 'split',\n",
       " 'splitlines',\n",
       " 'startswith',\n",
       " 'strip',\n",
       " 'swapcase',\n",
       " 'title',\n",
       " 'translate',\n",
       " 'upper',\n",
       " 'zfill']"
      ]
     },
     "execution_count": 16,
     "metadata": {},
     "output_type": "execute_result"
    }
   ],
   "source": [
    "dir(x)"
   ]
  },
  {
   "cell_type": "markdown",
   "id": "144c01fa",
   "metadata": {},
   "source": [
    "### Uppercase\n",
    "<b>The uppercsase method is used to converts lowercase characters to uppercase characters.<b/>"
   ]
  },
  {
   "cell_type": "code",
   "execution_count": 4,
   "id": "983f8144",
   "metadata": {},
   "outputs": [
    {
     "name": "stdout",
     "output_type": "stream",
     "text": [
      "Help on built-in function upper:\n",
      "\n",
      "upper() method of builtins.str instance\n",
      "    Return a copy of the string converted to uppercase.\n",
      "\n"
     ]
    }
   ],
   "source": [
    "help(x.upper)"
   ]
  },
  {
   "cell_type": "code",
   "execution_count": 43,
   "id": "b5736a63",
   "metadata": {},
   "outputs": [
    {
     "name": "stdout",
     "output_type": "stream",
     "text": [
      "Welcome@123\n",
      "WELCOME@123\n",
      "\n"
     ]
    }
   ],
   "source": [
    "s='Welcome@123'\n",
    "sU=s.upper()\n",
    "print(s)\n",
    "print(sU)\n",
    "print(sep='/n')\n"
   ]
  },
  {
   "cell_type": "code",
   "execution_count": 5,
   "id": "c9868037",
   "metadata": {},
   "outputs": [
    {
     "name": "stdout",
     "output_type": "stream",
     "text": [
      "This week we covered long term memmory in learning psychology\n",
      "THIS WEEK WE COVERED LONG TERM MEMMORY IN LEARNING PSYCHOLOGY\n"
     ]
    }
   ],
   "source": [
    "s=\"This week we covered long term memmory in learning psychology\"\n",
    "sU=s.upper()\n",
    "print(s,sU,sep='\\n')\n"
   ]
  },
  {
   "cell_type": "markdown",
   "id": "ee631612",
   "metadata": {},
   "source": [
    "### lowercase\n",
    "<b>*the lowercase method converts all uppercase characters to lowercase characters.<b/>"
   ]
  },
  {
   "cell_type": "code",
   "execution_count": 47,
   "id": "f0feffc0",
   "metadata": {},
   "outputs": [
    {
     "name": "stdout",
     "output_type": "stream",
     "text": [
      "Help on built-in function lower:\n",
      "\n",
      "lower() method of builtins.str instance\n",
      "    Return a copy of the string converted to lowercase.\n",
      "\n"
     ]
    }
   ],
   "source": [
    "help(s.lower)"
   ]
  },
  {
   "cell_type": "code",
   "execution_count": 4,
   "id": "7bead7aa",
   "metadata": {},
   "outputs": [
    {
     "name": "stdout",
     "output_type": "stream",
     "text": [
      "Welcome@123\n",
      "welcome@123\n"
     ]
    }
   ],
   "source": [
    "s='Welcome@123'\n",
    "sl=s.lower()\n",
    "print(s)\n",
    "print(sl)\n",
    "\n",
    "\n"
   ]
  },
  {
   "cell_type": "code",
   "execution_count": 16,
   "id": "fa5ae5b4",
   "metadata": {},
   "outputs": [
    {
     "name": "stdout",
     "output_type": "stream",
     "text": [
      "This week we covered long term memory in learning psychology\n",
      "this week we covered long term memory in learning psychology\n"
     ]
    }
   ],
   "source": [
    "s=\"This week we covered long term memory in learning psychology\"\n",
    "sl=s.lower()\n",
    "print(s,sl,sep='\\n')"
   ]
  },
  {
   "cell_type": "markdown",
   "id": "cd65fc75",
   "metadata": {},
   "source": [
    "### Title\n",
    "<b>*the title () method returns a string where the first character in every word is uppercase.like a header,or a title.<b/>"
   ]
  },
  {
   "cell_type": "code",
   "execution_count": 51,
   "id": "14775019",
   "metadata": {},
   "outputs": [
    {
     "name": "stdout",
     "output_type": "stream",
     "text": [
      "Help on built-in function title:\n",
      "\n",
      "title() method of builtins.str instance\n",
      "    Return a version of the string where each word is titlecased.\n",
      "    \n",
      "    More specifically, words start with uppercased characters and all remaining\n",
      "    cased characters have lower case.\n",
      "\n"
     ]
    }
   ],
   "source": [
    "help(s.title)"
   ]
  },
  {
   "cell_type": "code",
   "execution_count": 19,
   "id": "69c42e0b",
   "metadata": {},
   "outputs": [
    {
     "name": "stdout",
     "output_type": "stream",
     "text": [
      "This week we covered long term memory in learning psychology\n",
      "This Week We Covered Long Term Memory In Learning Psychology\n"
     ]
    }
   ],
   "source": [
    "s='This week we covered long term memory in learning psychology'\n",
    "st=s.title()\n",
    "print(s,st,sep='\\n')"
   ]
  },
  {
   "cell_type": "markdown",
   "id": "5d94480a",
   "metadata": {},
   "source": [
    "### Ordered\n",
    "<b>*An ordered set is a data order can be preserved and it is used when we require the position of data to remain fixed in the order we have inserted.<b/>"
   ]
  },
  {
   "cell_type": "code",
   "execution_count": 87,
   "id": "34e46816",
   "metadata": {},
   "outputs": [
    {
     "name": "stdout",
     "output_type": "stream",
     "text": [
      "103\n",
      "j\n"
     ]
    }
   ],
   "source": [
    "print(ord('g'))\n",
    "print(chr(ord('b')+8))"
   ]
  },
  {
   "cell_type": "code",
   "execution_count": 105,
   "id": "35a662f2",
   "metadata": {},
   "outputs": [
    {
     "name": "stdout",
     "output_type": "stream",
     "text": [
      "83\n",
      "B\n"
     ]
    }
   ],
   "source": [
    "print(ord('S'))\n",
    "print(chr(ord('D')-2))"
   ]
  },
  {
   "cell_type": "code",
   "execution_count": 106,
   "id": "9bcb5665",
   "metadata": {},
   "outputs": [
    {
     "name": "stdout",
     "output_type": "stream",
     "text": [
      "97\n",
      "y\n"
     ]
    }
   ],
   "source": [
    "print(ord('a'))\n",
    "print(chr(ord('z')-1))"
   ]
  },
  {
   "cell_type": "markdown",
   "id": "fcbf4acb",
   "metadata": {},
   "source": [
    "### Swapcase\n",
    "<b>*the swapcase()method returns a string where all the uppercase letter are lowercase and vice versa.<b/>"
   ]
  },
  {
   "cell_type": "code",
   "execution_count": 56,
   "id": "f5552978",
   "metadata": {},
   "outputs": [
    {
     "name": "stdout",
     "output_type": "stream",
     "text": [
      "Help on built-in function swapcase:\n",
      "\n",
      "swapcase() method of builtins.str instance\n",
      "    Convert uppercase characters to lowercase and lowercase characters to uppercase.\n",
      "\n"
     ]
    }
   ],
   "source": [
    "help(s.swapcase)"
   ]
  },
  {
   "cell_type": "code",
   "execution_count": 3,
   "id": "4800d590",
   "metadata": {},
   "outputs": [
    {
     "data": {
      "text/plain": [
       "'tHIS WEEK WE cOVERED LONG TErM MEMORY IN lEARNING PSYCHOLOGY'"
      ]
     },
     "execution_count": 3,
     "metadata": {},
     "output_type": "execute_result"
    }
   ],
   "source": [
    "s='This week we Covered long teRm memory in Learning psychology'\n",
    "s.swapcase()"
   ]
  },
  {
   "cell_type": "code",
   "execution_count": 2,
   "id": "f7e42527",
   "metadata": {},
   "outputs": [
    {
     "name": "stdout",
     "output_type": "stream",
     "text": [
      "dATA ScIEnCE\n"
     ]
    }
   ],
   "source": [
    "s=\"Data sCieNce\"\n",
    "print(s.swapcase())"
   ]
  },
  {
   "cell_type": "markdown",
   "id": "81bb2a95",
   "metadata": {},
   "source": [
    "### Casefold\n",
    "<b>*The casefold () method returns a string where all the characters are lower case.<b/>"
   ]
  },
  {
   "cell_type": "code",
   "execution_count": 63,
   "id": "8e956220",
   "metadata": {},
   "outputs": [
    {
     "name": "stdout",
     "output_type": "stream",
     "text": [
      "Help on built-in function casefold:\n",
      "\n",
      "casefold() method of builtins.str instance\n",
      "    Return a version of the string suitable for caseless comparisons.\n",
      "\n"
     ]
    }
   ],
   "source": [
    "help(s.casefold)"
   ]
  },
  {
   "cell_type": "code",
   "execution_count": 107,
   "id": "1a731edf",
   "metadata": {},
   "outputs": [
    {
     "data": {
      "text/plain": [
       "('this week we covered long term memory in learning psychology',\n",
       " 'this week we covered long term memory in learning psychology')"
      ]
     },
     "execution_count": 107,
     "metadata": {},
     "output_type": "execute_result"
    }
   ],
   "source": [
    "s='This week we covered long term memory in learning psychology'\n",
    "s.lower(),s.casefold()\n"
   ]
  },
  {
   "cell_type": "code",
   "execution_count": 1,
   "id": "7a28f545",
   "metadata": {},
   "outputs": [
    {
     "data": {
      "text/plain": [
       "('close the door', 'close the door')"
      ]
     },
     "execution_count": 1,
     "metadata": {},
     "output_type": "execute_result"
    }
   ],
   "source": [
    "s=\"Close the door\"\n",
    "s.lower(),s.casefold()"
   ]
  },
  {
   "cell_type": "markdown",
   "id": "c22c68ce",
   "metadata": {},
   "source": [
    "### Capitalize\n",
    "<b>*capitalize method ()is used to convert the first character of a string to uppercase and the remaining characters to lowercase.<b/>"
   ]
  },
  {
   "cell_type": "code",
   "execution_count": 66,
   "id": "5c271905",
   "metadata": {},
   "outputs": [
    {
     "name": "stdout",
     "output_type": "stream",
     "text": [
      "Help on built-in function capitalize:\n",
      "\n",
      "capitalize() method of builtins.str instance\n",
      "    Return a capitalized version of the string.\n",
      "    \n",
      "    More specifically, make the first character have upper case and the rest lower\n",
      "    case.\n",
      "\n"
     ]
    }
   ],
   "source": [
    "help(s.capitalize)"
   ]
  },
  {
   "cell_type": "code",
   "execution_count": 60,
   "id": "ea1e9e9b",
   "metadata": {},
   "outputs": [
    {
     "name": "stdout",
     "output_type": "stream",
     "text": [
      "this week we covered long term memory in learning psychology\n",
      "This week we covered long term memory in learning psychology\n"
     ]
    }
   ],
   "source": [
    "s='this week we covered long term memory in learning psychology'\n",
    "sC=s.capitalize()\n",
    "print(s,sC,sep='\\n')"
   ]
  },
  {
   "cell_type": "code",
   "execution_count": 61,
   "id": "97212feb",
   "metadata": {},
   "outputs": [
    {
     "name": "stdout",
     "output_type": "stream",
     "text": [
      "colour combination\n",
      "Colour combination\n"
     ]
    }
   ],
   "source": [
    "s=\"colour combination\"\n",
    "sC=s.capitalize()\n",
    "print(s,sC,sep='\\n')"
   ]
  },
  {
   "cell_type": "markdown",
   "id": "31c77610",
   "metadata": {},
   "source": [
    "### Find\n",
    "<b> *find method returns the index(positive index) of first occurence of given char or sub string.<b/>\n",
    "    \n",
    "<b>*It initial the search from left to right<b/>     "
   ]
  },
  {
   "cell_type": "code",
   "execution_count": 3,
   "id": "5b0b3c6c",
   "metadata": {},
   "outputs": [
    {
     "name": "stdout",
     "output_type": "stream",
     "text": [
      "Help on built-in function find:\n",
      "\n",
      "find(...) method of builtins.str instance\n",
      "    S.find(sub[, start[, end]]) -> int\n",
      "    \n",
      "    Return the lowest index in S where substring sub is found,\n",
      "    such that sub is contained within S[start:end].  Optional\n",
      "    arguments start and end are interpreted as in slice notation.\n",
      "    \n",
      "    Return -1 on failure.\n",
      "\n"
     ]
    }
   ],
   "source": [
    "help(x.find)"
   ]
  },
  {
   "cell_type": "code",
   "execution_count": 10,
   "id": "20f34216",
   "metadata": {},
   "outputs": [
    {
     "data": {
      "text/plain": [
       "2"
      ]
     },
     "execution_count": 10,
     "metadata": {},
     "output_type": "execute_result"
    }
   ],
   "source": [
    "x='python is beautiful language'\n",
    "x.find('t')"
   ]
  },
  {
   "cell_type": "code",
   "execution_count": 9,
   "id": "10155e5c",
   "metadata": {},
   "outputs": [
    {
     "data": {
      "text/plain": [
       "12"
      ]
     },
     "execution_count": 9,
     "metadata": {},
     "output_type": "execute_result"
    }
   ],
   "source": [
    "x.find('a',1)"
   ]
  },
  {
   "cell_type": "code",
   "execution_count": 13,
   "id": "5c00e974",
   "metadata": {},
   "outputs": [
    {
     "data": {
      "text/plain": [
       "-1"
      ]
     },
     "execution_count": 13,
     "metadata": {},
     "output_type": "execute_result"
    }
   ],
   "source": [
    "x.find('l',3,5)"
   ]
  },
  {
   "cell_type": "code",
   "execution_count": 16,
   "id": "ec933997",
   "metadata": {},
   "outputs": [
    {
     "data": {
      "text/plain": [
       "(12, -1)"
      ]
     },
     "execution_count": 16,
     "metadata": {},
     "output_type": "execute_result"
    }
   ],
   "source": [
    "x.find('a'),x.find('a',1,1)"
   ]
  },
  {
   "cell_type": "markdown",
   "id": "2c487036",
   "metadata": {},
   "source": [
    "### rfind\n",
    "##### It initial the search from right to left."
   ]
  },
  {
   "cell_type": "code",
   "execution_count": 23,
   "id": "fc55a58b",
   "metadata": {},
   "outputs": [
    {
     "name": "stdout",
     "output_type": "stream",
     "text": [
      "Help on built-in function rfind:\n",
      "\n",
      "rfind(...) method of builtins.str instance\n",
      "    S.rfind(sub[, start[, end]]) -> int\n",
      "    \n",
      "    Return the highest index in S where substring sub is found,\n",
      "    such that sub is contained within S[start:end].  Optional\n",
      "    arguments start and end are interpreted as in slice notation.\n",
      "    \n",
      "    Return -1 on failure.\n",
      "\n"
     ]
    }
   ],
   "source": [
    "help(x.rfind)"
   ]
  },
  {
   "cell_type": "code",
   "execution_count": 18,
   "id": "1358051a",
   "metadata": {},
   "outputs": [
    {
     "data": {
      "text/plain": [
       "24"
      ]
     },
     "execution_count": 18,
     "metadata": {},
     "output_type": "execute_result"
    }
   ],
   "source": [
    "x='python is beautiful language'\n",
    "x.rfind('u')"
   ]
  },
  {
   "cell_type": "code",
   "execution_count": 21,
   "id": "aac40b83",
   "metadata": {},
   "outputs": [
    {
     "data": {
      "text/plain": [
       "14"
      ]
     },
     "execution_count": 21,
     "metadata": {},
     "output_type": "execute_result"
    }
   ],
   "source": [
    "x.rfind('t',1)"
   ]
  },
  {
   "cell_type": "code",
   "execution_count": 22,
   "id": "65c85b88",
   "metadata": {},
   "outputs": [
    {
     "data": {
      "text/plain": [
       "(-1, -1)"
      ]
     },
     "execution_count": 22,
     "metadata": {},
     "output_type": "execute_result"
    }
   ],
   "source": [
    "x.rfind('r'),x.rfind('r',1,6)"
   ]
  },
  {
   "cell_type": "markdown",
   "id": "11a6cf69",
   "metadata": {},
   "source": [
    "### Index\n",
    "<b> *the index method returns the position at the first ocurrence of the specified value from left to right.<b/>"
   ]
  },
  {
   "cell_type": "code",
   "execution_count": 14,
   "id": "d88cd216",
   "metadata": {},
   "outputs": [
    {
     "name": "stdout",
     "output_type": "stream",
     "text": [
      "Help on method_descriptor:\n",
      "\n",
      "index(...)\n",
      "    S.index(sub[, start[, end]]) -> int\n",
      "    \n",
      "    Return the lowest index in S where substring sub is found,\n",
      "    such that sub is contained within S[start:end].  Optional\n",
      "    arguments start and end are interpreted as in slice notation.\n",
      "    \n",
      "    Raises ValueError when the substring is not found.\n",
      "\n"
     ]
    }
   ],
   "source": [
    "help(str.index)"
   ]
  },
  {
   "cell_type": "code",
   "execution_count": 25,
   "id": "255e30f9",
   "metadata": {},
   "outputs": [
    {
     "data": {
      "text/plain": [
       "2"
      ]
     },
     "execution_count": 25,
     "metadata": {},
     "output_type": "execute_result"
    }
   ],
   "source": [
    "x= 'please give me some coffee'\n",
    "x.index('e')"
   ]
  },
  {
   "cell_type": "code",
   "execution_count": 28,
   "id": "214fb053",
   "metadata": {},
   "outputs": [
    {
     "data": {
      "text/plain": [
       "16"
      ]
     },
     "execution_count": 28,
     "metadata": {},
     "output_type": "execute_result"
    }
   ],
   "source": [
    "x.index('o',1)"
   ]
  },
  {
   "cell_type": "code",
   "execution_count": 30,
   "id": "f7ef00af",
   "metadata": {},
   "outputs": [
    {
     "data": {
      "text/plain": [
       "12"
      ]
     },
     "execution_count": 30,
     "metadata": {},
     "output_type": "execute_result"
    }
   ],
   "source": [
    "x.index('m',1)"
   ]
  },
  {
   "cell_type": "code",
   "execution_count": 32,
   "id": "d910fecd",
   "metadata": {},
   "outputs": [
    {
     "data": {
      "text/plain": [
       "15"
      ]
     },
     "execution_count": 32,
     "metadata": {},
     "output_type": "execute_result"
    }
   ],
   "source": [
    "x= 'please give me some coffee'\n",
    "x.rindex('s')"
   ]
  },
  {
   "cell_type": "code",
   "execution_count": 34,
   "id": "0977126f",
   "metadata": {},
   "outputs": [
    {
     "data": {
      "text/plain": [
       "7"
      ]
     },
     "execution_count": 34,
     "metadata": {},
     "output_type": "execute_result"
    }
   ],
   "source": [
    "x.rindex('g',1)"
   ]
  },
  {
   "cell_type": "code",
   "execution_count": 37,
   "id": "7ee91201",
   "metadata": {},
   "outputs": [
    {
     "data": {
      "text/plain": [
       "25"
      ]
     },
     "execution_count": 37,
     "metadata": {},
     "output_type": "execute_result"
    }
   ],
   "source": [
    "x.rindex('e')"
   ]
  },
  {
   "cell_type": "markdown",
   "id": "9c84c820",
   "metadata": {},
   "source": [
    "### Replace\n",
    "<b>The replace()method returns copy of the string where the old substring is replaced with the new string.<b/>"
   ]
  },
  {
   "cell_type": "code",
   "execution_count": 14,
   "id": "4d256937",
   "metadata": {},
   "outputs": [
    {
     "name": "stdout",
     "output_type": "stream",
     "text": [
      "Help on method_descriptor:\n",
      "\n",
      "replace(self, old, new, count=-1, /)\n",
      "    Return a copy with all occurrences of substring old replaced by new.\n",
      "    \n",
      "      count\n",
      "        Maximum number of occurrences to replace.\n",
      "        -1 (the default value) means replace all occurrences.\n",
      "    \n",
      "    If the optional argument count is given, only the first count occurrences are\n",
      "    replaced.\n",
      "\n"
     ]
    }
   ],
   "source": [
    "help(str.replace)"
   ]
  },
  {
   "cell_type": "code",
   "execution_count": 40,
   "id": "6f8f0ee0",
   "metadata": {},
   "outputs": [
    {
     "data": {
      "text/plain": [
       "'thes es my pen'"
      ]
     },
     "execution_count": 40,
     "metadata": {},
     "output_type": "execute_result"
    }
   ],
   "source": [
    "x = 'this is my pen'\n",
    "x.replace('i', 'e')"
   ]
  },
  {
   "cell_type": "code",
   "execution_count": 42,
   "id": "8dd8e2c8",
   "metadata": {},
   "outputs": [
    {
     "data": {
      "text/plain": [
       "'the ane line yau cant nat crass with trump is gaing against Russia'"
      ]
     },
     "execution_count": 42,
     "metadata": {},
     "output_type": "execute_result"
    }
   ],
   "source": [
    "x='the one line you cant not cross with trump is going against Russia'\n",
    "x.replace('o','a')"
   ]
  },
  {
   "cell_type": "markdown",
   "id": "6d1b25d5",
   "metadata": {},
   "source": [
    "### Split  \n"
   ]
  },
  {
   "cell_type": "code",
   "execution_count": 46,
   "id": "740eef3e",
   "metadata": {},
   "outputs": [
    {
     "name": "stdout",
     "output_type": "stream",
     "text": [
      "Help on built-in function split:\n",
      "\n",
      "split(sep=None, maxsplit=-1) method of builtins.str instance\n",
      "    Return a list of the substrings in the string, using sep as the separator string.\n",
      "    \n",
      "      sep\n",
      "        The separator used to split the string.\n",
      "    \n",
      "        When set to None (the default value), will split on any whitespace\n",
      "        character (including \\\\n \\\\r \\\\t \\\\f and spaces) and will discard\n",
      "        empty strings from the result.\n",
      "      maxsplit\n",
      "        Maximum number of splits (starting from the left).\n",
      "        -1 (the default value) means no limit.\n",
      "    \n",
      "    Note, str.split() is mainly useful for data that has been intentionally\n",
      "    delimited.  With natural text that includes punctuation, consider using\n",
      "    the regular expression module.\n",
      "\n"
     ]
    }
   ],
   "source": [
    "help(x.split)"
   ]
  },
  {
   "cell_type": "code",
   "execution_count": 43,
   "id": "ccb0dc19",
   "metadata": {},
   "outputs": [
    {
     "data": {
      "text/plain": [
       "['Lab', 'rat', 'ry']"
      ]
     },
     "execution_count": 43,
     "metadata": {},
     "output_type": "execute_result"
    }
   ],
   "source": [
    "x='Laboratory'\n",
    "x.split('o')"
   ]
  },
  {
   "cell_type": "code",
   "execution_count": 45,
   "id": "20c2edb9",
   "metadata": {},
   "outputs": [
    {
     "data": {
      "text/plain": [
       "['the one line you cant not cro',\n",
       " '',\n",
       " ' with trump i',\n",
       " ' going again',\n",
       " 't Ru',\n",
       " '',\n",
       " 'ia']"
      ]
     },
     "execution_count": 45,
     "metadata": {},
     "output_type": "execute_result"
    }
   ],
   "source": [
    "x='the one line you cant not cross with trump is going against Russia'\n",
    "x.split('s')"
   ]
  },
  {
   "cell_type": "markdown",
   "id": "f9605eea",
   "metadata": {},
   "source": [
    "### Splitlines"
   ]
  },
  {
   "cell_type": "code",
   "execution_count": 47,
   "id": "bc813aad",
   "metadata": {},
   "outputs": [
    {
     "name": "stdout",
     "output_type": "stream",
     "text": [
      "Help on built-in function splitlines:\n",
      "\n",
      "splitlines(keepends=False) method of builtins.str instance\n",
      "    Return a list of the lines in the string, breaking at line boundaries.\n",
      "    \n",
      "    Line breaks are not included in the resulting list unless keepends is given and\n",
      "    true.\n",
      "\n"
     ]
    }
   ],
   "source": [
    "help(x.splitlines)"
   ]
  },
  {
   "cell_type": "code",
   "execution_count": 52,
   "id": "2ef356d6",
   "metadata": {},
   "outputs": [
    {
     "data": {
      "text/plain": [
       "['a science that deals with the compositions, strictures, and properties of substances and with the substances that they undergo.']"
      ]
     },
     "execution_count": 52,
     "metadata": {},
     "output_type": "execute_result"
    }
   ],
   "source": [
    "x='a science that deals with the compositions, strictures, and properties of substances and with the substances that they undergo.'\n",
    "x.splitlines()"
   ]
  },
  {
   "cell_type": "code",
   "execution_count": 54,
   "id": "8ac18da1",
   "metadata": {},
   "outputs": [
    {
     "data": {
      "text/plain": [
       "['the one line you cant not cross with trump is going against Russia']"
      ]
     },
     "execution_count": 54,
     "metadata": {},
     "output_type": "execute_result"
    }
   ],
   "source": [
    "x='the one line you cant not cross with trump is going against Russia'\n",
    "x.splitlines()"
   ]
  },
  {
   "cell_type": "markdown",
   "id": "243b679d",
   "metadata": {},
   "source": [
    "### partition\n",
    "<b>*the partition method () method searches for a specified string,and split the string into a tuple containing three elements.<b/>"
   ]
  },
  {
   "cell_type": "code",
   "execution_count": 14,
   "id": "d3300ae8",
   "metadata": {},
   "outputs": [
    {
     "name": "stdout",
     "output_type": "stream",
     "text": [
      "Help on built-in function partition:\n",
      "\n",
      "partition(sep, /) method of builtins.str instance\n",
      "    Partition the string into three parts using the given separator.\n",
      "    \n",
      "    This will search for the separator in the string.  If the separator is found,\n",
      "    returns a 3-tuple containing the part before the separator, the separator\n",
      "    itself, and the part after it.\n",
      "    \n",
      "    If the separator is not found, returns a 3-tuple containing the original string\n",
      "    and two empty strings.\n",
      "\n"
     ]
    }
   ],
   "source": [
    "help(x.partition)"
   ]
  },
  {
   "cell_type": "code",
   "execution_count": 12,
   "id": "7a7c2d6d",
   "metadata": {},
   "outputs": [
    {
     "data": {
      "text/plain": [
       "('Hello', ' ', 'world')"
      ]
     },
     "execution_count": 12,
     "metadata": {},
     "output_type": "execute_result"
    }
   ],
   "source": [
    "x= 'Hello world'\n",
    "x.partition(' ')\n"
   ]
  },
  {
   "cell_type": "code",
   "execution_count": 13,
   "id": "a28ce0e1",
   "metadata": {},
   "outputs": [
    {
     "data": {
      "text/plain": [
       "('How', ' ', 'are you')"
      ]
     },
     "execution_count": 13,
     "metadata": {},
     "output_type": "execute_result"
    }
   ],
   "source": [
    "x=\"How are you\"\n",
    "x.partition(\" \")"
   ]
  },
  {
   "cell_type": "markdown",
   "id": "30432844",
   "metadata": {},
   "source": [
    "### isalnum\n",
    "<b>The isalnum() method returns True if all the characters are alphanumeric, meaning alphabet letter (a-z) and numbers (0-9).<b/>\n",
    "\n"
   ]
  },
  {
   "cell_type": "code",
   "execution_count": 7,
   "id": "3f1361da",
   "metadata": {},
   "outputs": [
    {
     "name": "stdout",
     "output_type": "stream",
     "text": [
      "Help on method_descriptor:\n",
      "\n",
      "isalnum(self, /)\n",
      "    Return True if the string is an alpha-numeric string, False otherwise.\n",
      "    \n",
      "    A string is alpha-numeric if all characters in the string are alpha-numeric and\n",
      "    there is at least one character in the string.\n",
      "\n"
     ]
    }
   ],
   "source": [
    "help(str.isalnum)"
   ]
  },
  {
   "cell_type": "code",
   "execution_count": 9,
   "id": "8c4233ff",
   "metadata": {},
   "outputs": [
    {
     "data": {
      "text/plain": [
       "False"
      ]
     },
     "execution_count": 9,
     "metadata": {},
     "output_type": "execute_result"
    }
   ],
   "source": [
    "x=\"Description 34\"\n",
    "x.isalnum()"
   ]
  },
  {
   "cell_type": "code",
   "execution_count": 10,
   "id": "cb7691a2",
   "metadata": {},
   "outputs": [
    {
     "data": {
      "text/plain": [
       "True"
      ]
     },
     "execution_count": 10,
     "metadata": {},
     "output_type": "execute_result"
    }
   ],
   "source": [
    "x='numeric'\n",
    "x.isalnum()"
   ]
  },
  {
   "cell_type": "markdown",
   "id": "dadefeae",
   "metadata": {},
   "source": [
    "### isalpha\n",
    "\n",
    "##### True if all characters in the string are alphabets (can be both lowercase and uppercase).\n"
   ]
  },
  {
   "cell_type": "code",
   "execution_count": 11,
   "id": "e5de639a",
   "metadata": {},
   "outputs": [
    {
     "name": "stdout",
     "output_type": "stream",
     "text": [
      "Help on built-in function isalpha:\n",
      "\n",
      "isalpha() method of builtins.str instance\n",
      "    Return True if the string is an alphabetic string, False otherwise.\n",
      "    \n",
      "    A string is alphabetic if all characters in the string are alphabetic and there\n",
      "    is at least one character in the string.\n",
      "\n"
     ]
    }
   ],
   "source": [
    "help(x.isalpha)"
   ]
  },
  {
   "cell_type": "code",
   "execution_count": 13,
   "id": "c9481ee2",
   "metadata": {},
   "outputs": [
    {
     "data": {
      "text/plain": [
       "True"
      ]
     },
     "execution_count": 13,
     "metadata": {},
     "output_type": "execute_result"
    }
   ],
   "source": [
    "x=\"falguni\"\n",
    "x.isalpha()"
   ]
  },
  {
   "cell_type": "code",
   "execution_count": 14,
   "id": "d256fe81",
   "metadata": {},
   "outputs": [
    {
     "data": {
      "text/plain": [
       "False"
      ]
     },
     "execution_count": 14,
     "metadata": {},
     "output_type": "execute_result"
    }
   ],
   "source": [
    "x='Falguni@123'\n",
    "x.isalpha()"
   ]
  },
  {
   "cell_type": "markdown",
   "id": "fec6f3b8",
   "metadata": {},
   "source": [
    "### isnumeric\n",
    "<b>*The isnumeric() method returns True if all the characters are numeric (0-9), otherwise False.<b/>\n",
    "\n"
   ]
  },
  {
   "cell_type": "code",
   "execution_count": 15,
   "id": "2f319ba1",
   "metadata": {},
   "outputs": [
    {
     "name": "stdout",
     "output_type": "stream",
     "text": [
      "Help on built-in function isnumeric:\n",
      "\n",
      "isnumeric() method of builtins.str instance\n",
      "    Return True if the string is a numeric string, False otherwise.\n",
      "    \n",
      "    A string is numeric if all characters in the string are numeric and there is at\n",
      "    least one character in the string.\n",
      "\n"
     ]
    }
   ],
   "source": [
    "help(x.isnumeric)"
   ]
  },
  {
   "cell_type": "code",
   "execution_count": 16,
   "id": "e1b990c8",
   "metadata": {},
   "outputs": [
    {
     "data": {
      "text/plain": [
       "False"
      ]
     },
     "execution_count": 16,
     "metadata": {},
     "output_type": "execute_result"
    }
   ],
   "source": [
    "x=\"123487@@#\"\n",
    "x.isnumeric()"
   ]
  },
  {
   "cell_type": "code",
   "execution_count": 21,
   "id": "0aed135c",
   "metadata": {},
   "outputs": [
    {
     "data": {
      "text/plain": [
       "False"
      ]
     },
     "execution_count": 21,
     "metadata": {},
     "output_type": "execute_result"
    }
   ],
   "source": [
    "x=\"falguni123\"\n",
    "x.isnumeric()"
   ]
  },
  {
   "cell_type": "code",
   "execution_count": 22,
   "id": "196623f2",
   "metadata": {},
   "outputs": [
    {
     "data": {
      "text/plain": [
       "True"
      ]
     },
     "execution_count": 22,
     "metadata": {},
     "output_type": "execute_result"
    }
   ],
   "source": [
    "x='2002'\n",
    "x.isnumeric()"
   ]
  },
  {
   "cell_type": "markdown",
   "id": "0ef74589",
   "metadata": {},
   "source": [
    "### isascii\n",
    "<b>*The isascii () method returns True if all the characters are ascii character(a-z).<b/>\n",
    "  "
   ]
  },
  {
   "cell_type": "code",
   "execution_count": 24,
   "id": "3330b8f9",
   "metadata": {},
   "outputs": [
    {
     "name": "stdout",
     "output_type": "stream",
     "text": [
      "Help on built-in function isascii:\n",
      "\n",
      "isascii() method of builtins.str instance\n",
      "    Return True if all characters in the string are ASCII, False otherwise.\n",
      "    \n",
      "    ASCII characters have code points in the range U+0000-U+007F.\n",
      "    Empty string is ASCII too.\n",
      "\n"
     ]
    }
   ],
   "source": [
    "help(x.isascii)"
   ]
  },
  {
   "cell_type": "code",
   "execution_count": 26,
   "id": "1e012337",
   "metadata": {},
   "outputs": [
    {
     "data": {
      "text/plain": [
       "True"
      ]
     },
     "execution_count": 26,
     "metadata": {},
     "output_type": "execute_result"
    }
   ],
   "source": [
    "x=\"linuxhint\"\n",
    "x.isascii()"
   ]
  },
  {
   "cell_type": "code",
   "execution_count": 27,
   "id": "670c62c1",
   "metadata": {},
   "outputs": [
    {
     "data": {
      "text/plain": [
       "True"
      ]
     },
     "execution_count": 27,
     "metadata": {},
     "output_type": "execute_result"
    }
   ],
   "source": [
    "x=\"falguni@123\"\n",
    "x.isascii()"
   ]
  },
  {
   "cell_type": "markdown",
   "id": "f9bf6673",
   "metadata": {},
   "source": [
    "### isdecimal\n",
    "<b>*True if all characters in the string are decimal character.otherwise,it returns False.<b/>"
   ]
  },
  {
   "cell_type": "code",
   "execution_count": 28,
   "id": "a9a0074a",
   "metadata": {},
   "outputs": [
    {
     "name": "stdout",
     "output_type": "stream",
     "text": [
      "Help on built-in function isdecimal:\n",
      "\n",
      "isdecimal() method of builtins.str instance\n",
      "    Return True if the string is a decimal string, False otherwise.\n",
      "    \n",
      "    A string is a decimal string if all characters in the string are decimal and\n",
      "    there is at least one character in the string.\n",
      "\n"
     ]
    }
   ],
   "source": [
    "help(x.isdecimal)"
   ]
  },
  {
   "cell_type": "code",
   "execution_count": 30,
   "id": "dbe78b4f",
   "metadata": {},
   "outputs": [
    {
     "data": {
      "text/plain": [
       "False"
      ]
     },
     "execution_count": 30,
     "metadata": {},
     "output_type": "execute_result"
    }
   ],
   "source": [
    "x=\"chemistry.\"\n",
    "x.isdecimal()"
   ]
  },
  {
   "cell_type": "code",
   "execution_count": 33,
   "id": "d6ac963e",
   "metadata": {},
   "outputs": [
    {
     "data": {
      "text/plain": [
       "True"
      ]
     },
     "execution_count": 33,
     "metadata": {},
     "output_type": "execute_result"
    }
   ],
   "source": [
    "x='12345'\n",
    "x.isdecimal()"
   ]
  },
  {
   "cell_type": "code",
   "execution_count": 40,
   "id": "3d078593",
   "metadata": {},
   "outputs": [
    {
     "data": {
      "text/plain": [
       "False"
      ]
     },
     "execution_count": 40,
     "metadata": {},
     "output_type": "execute_result"
    }
   ],
   "source": [
    "x='chemistry'\n",
    "x.isdecimal()"
   ]
  },
  {
   "cell_type": "markdown",
   "id": "2f6e2141",
   "metadata": {},
   "source": [
    "### isdigit\n",
    "<b>*The isdigit () method returns \"True\"if all characters in a string are digit. If not it returns \"False\".<b/>"
   ]
  },
  {
   "cell_type": "code",
   "execution_count": 41,
   "id": "c97fa4c4",
   "metadata": {},
   "outputs": [
    {
     "name": "stdout",
     "output_type": "stream",
     "text": [
      "Help on built-in function isdigit:\n",
      "\n",
      "isdigit() method of builtins.str instance\n",
      "    Return True if the string is a digit string, False otherwise.\n",
      "    \n",
      "    A string is a digit string if all characters in the string are digits and there\n",
      "    is at least one character in the string.\n",
      "\n"
     ]
    }
   ],
   "source": [
    "help(x.isdigit)"
   ]
  },
  {
   "cell_type": "code",
   "execution_count": 42,
   "id": "77c69129",
   "metadata": {},
   "outputs": [
    {
     "data": {
      "text/plain": [
       "True"
      ]
     },
     "execution_count": 42,
     "metadata": {},
     "output_type": "execute_result"
    }
   ],
   "source": [
    "x=\"2015\"\n",
    "x.isdigit()"
   ]
  },
  {
   "cell_type": "code",
   "execution_count": 43,
   "id": "9add1492",
   "metadata": {},
   "outputs": [
    {
     "data": {
      "text/plain": [
       "False"
      ]
     },
     "execution_count": 43,
     "metadata": {},
     "output_type": "execute_result"
    }
   ],
   "source": [
    "x='20.15'\n",
    "x.isdigit()"
   ]
  },
  {
   "cell_type": "code",
   "execution_count": 44,
   "id": "8e6b7111",
   "metadata": {},
   "outputs": [
    {
     "data": {
      "text/plain": [
       "False"
      ]
     },
     "execution_count": 44,
     "metadata": {},
     "output_type": "execute_result"
    }
   ],
   "source": [
    "x='mathematics'\n",
    "x.isdigit()"
   ]
  },
  {
   "cell_type": "code",
   "execution_count": 46,
   "id": "a86ac3da",
   "metadata": {},
   "outputs": [
    {
     "data": {
      "text/plain": [
       "False"
      ]
     },
     "execution_count": 46,
     "metadata": {},
     "output_type": "execute_result"
    }
   ],
   "source": [
    "x=\"Mathematics.\"\n",
    "x.isdigit()"
   ]
  },
  {
   "cell_type": "markdown",
   "id": "53c5a898",
   "metadata": {},
   "source": [
    "### isidentifier\n",
    "<b>*The isidentifier () method returns \"true\" if the string is a valid identifier , otherwise \"false\".<b/>"
   ]
  },
  {
   "cell_type": "code",
   "execution_count": 47,
   "id": "21e42431",
   "metadata": {},
   "outputs": [
    {
     "name": "stdout",
     "output_type": "stream",
     "text": [
      "Help on built-in function isidentifier:\n",
      "\n",
      "isidentifier() method of builtins.str instance\n",
      "    Return True if the string is a valid Python identifier, False otherwise.\n",
      "    \n",
      "    Call keyword.iskeyword(s) to test whether string s is a reserved identifier,\n",
      "    such as \"def\" or \"class\".\n",
      "\n"
     ]
    }
   ],
   "source": [
    "help(x.isidentifier)"
   ]
  },
  {
   "cell_type": "markdown",
   "id": "4ff9f6fa",
   "metadata": {},
   "source": [
    "x=\"mathematics\"\n",
    "x.isidentifier()"
   ]
  },
  {
   "cell_type": "code",
   "execution_count": 50,
   "id": "cdc94542",
   "metadata": {},
   "outputs": [
    {
     "data": {
      "text/plain": [
       "False"
      ]
     },
     "execution_count": 50,
     "metadata": {},
     "output_type": "execute_result"
    }
   ],
   "source": [
    "x='123455'\n",
    "x.isidentifier()"
   ]
  },
  {
   "cell_type": "markdown",
   "id": "8ce73832",
   "metadata": {},
   "source": [
    "### islower\n",
    "<b>*The islower () method returns true if all the characters are in lower case,otherwise,false.<b/>"
   ]
  },
  {
   "cell_type": "code",
   "execution_count": 51,
   "id": "0639a85a",
   "metadata": {},
   "outputs": [
    {
     "name": "stdout",
     "output_type": "stream",
     "text": [
      "Help on built-in function islower:\n",
      "\n",
      "islower() method of builtins.str instance\n",
      "    Return True if the string is a lowercase string, False otherwise.\n",
      "    \n",
      "    A string is lowercase if all cased characters in the string are lowercase and\n",
      "    there is at least one cased character in the string.\n",
      "\n"
     ]
    }
   ],
   "source": [
    "help(x.islower)"
   ]
  },
  {
   "cell_type": "code",
   "execution_count": 52,
   "id": "bd171c96",
   "metadata": {},
   "outputs": [
    {
     "data": {
      "text/plain": [
       "True"
      ]
     },
     "execution_count": 52,
     "metadata": {},
     "output_type": "execute_result"
    }
   ],
   "source": [
    "x=\"chemistry\"\n",
    "x.islower()"
   ]
  },
  {
   "cell_type": "code",
   "execution_count": 53,
   "id": "6d2807d0",
   "metadata": {},
   "outputs": [
    {
     "data": {
      "text/plain": [
       "False"
      ]
     },
     "execution_count": 53,
     "metadata": {},
     "output_type": "execute_result"
    }
   ],
   "source": [
    "x='CHemistry'\n",
    "x.islower()"
   ]
  },
  {
   "cell_type": "markdown",
   "id": "6bcb17f4",
   "metadata": {},
   "source": [
    "### isupper\n",
    "<b>*isupper() method returns \"true\" if all the characters are in uppercase, otherwise \"false\".Number,symbol,and spaces are not checked ,only alphabet characters.<b/>\n",
    "    \n",
    "    "
   ]
  },
  {
   "cell_type": "code",
   "execution_count": 54,
   "id": "e17cd7d7",
   "metadata": {},
   "outputs": [
    {
     "name": "stdout",
     "output_type": "stream",
     "text": [
      "Help on built-in function isupper:\n",
      "\n",
      "isupper() method of builtins.str instance\n",
      "    Return True if the string is an uppercase string, False otherwise.\n",
      "    \n",
      "    A string is uppercase if all cased characters in the string are uppercase and\n",
      "    there is at least one cased character in the string.\n",
      "\n"
     ]
    }
   ],
   "source": [
    "help(x.isupper)"
   ]
  },
  {
   "cell_type": "code",
   "execution_count": 55,
   "id": "92b08488",
   "metadata": {},
   "outputs": [
    {
     "data": {
      "text/plain": [
       "False"
      ]
     },
     "execution_count": 55,
     "metadata": {},
     "output_type": "execute_result"
    }
   ],
   "source": [
    "x=\"falguni\"\n",
    "x.isupper()"
   ]
  },
  {
   "cell_type": "code",
   "execution_count": 62,
   "id": "873b49a7",
   "metadata": {},
   "outputs": [
    {
     "data": {
      "text/plain": [
       "True"
      ]
     },
     "execution_count": 62,
     "metadata": {},
     "output_type": "execute_result"
    }
   ],
   "source": [
    "x='FALGUNI'\n",
    "x.isupper()"
   ]
  },
  {
   "cell_type": "markdown",
   "id": "32ec42d8",
   "metadata": {},
   "source": [
    "### isprintable\n",
    "<b> *isprintable() is a built-in method used for string handling.<b/>\n",
    "    \n",
    "<b> *The isprintable () method returns \"True\" if all characters in the string are printable or the string is empty, Otherwise \"False\".<b/>    "
   ]
  },
  {
   "cell_type": "code",
   "execution_count": 63,
   "id": "772e2863",
   "metadata": {},
   "outputs": [
    {
     "name": "stdout",
     "output_type": "stream",
     "text": [
      "Help on built-in function isprintable:\n",
      "\n",
      "isprintable() method of builtins.str instance\n",
      "    Return True if the string is printable, False otherwise.\n",
      "    \n",
      "    A string is printable if all of its characters are considered printable in\n",
      "    repr() or if it is empty.\n",
      "\n"
     ]
    }
   ],
   "source": [
    "help(x.isprintable)"
   ]
  },
  {
   "cell_type": "code",
   "execution_count": 1,
   "id": "88826d34",
   "metadata": {},
   "outputs": [
    {
     "data": {
      "text/plain": [
       "True"
      ]
     },
     "execution_count": 1,
     "metadata": {},
     "output_type": "execute_result"
    }
   ],
   "source": [
    "x=\"AbBH\"\n",
    "x.isprintable()"
   ]
  },
  {
   "cell_type": "code",
   "execution_count": null,
   "id": "5fe2d6b1",
   "metadata": {},
   "outputs": [],
   "source": [
    "x='abh\\n'\n"
   ]
  },
  {
   "cell_type": "markdown",
   "id": "59c311e1",
   "metadata": {},
   "source": [
    "### isspace\n",
    "<b> isspace()method returns \"true\"if all characters in the string are whitespace characters,otherwise,it returns \"false\"<b/>"
   ]
  },
  {
   "cell_type": "code",
   "execution_count": 4,
   "id": "b5826cdc",
   "metadata": {},
   "outputs": [
    {
     "name": "stdout",
     "output_type": "stream",
     "text": [
      "Help on built-in function isspace:\n",
      "\n",
      "isspace() method of builtins.str instance\n",
      "    Return True if the string is a whitespace string, False otherwise.\n",
      "    \n",
      "    A string is whitespace if all characters in the string are whitespace and there\n",
      "    is at least one character in the string.\n",
      "\n"
     ]
    }
   ],
   "source": [
    "help(x.isspace)"
   ]
  },
  {
   "cell_type": "code",
   "execution_count": 5,
   "id": "e3d2efe9",
   "metadata": {},
   "outputs": [
    {
     "data": {
      "text/plain": [
       "False"
      ]
     },
     "execution_count": 5,
     "metadata": {},
     "output_type": "execute_result"
    }
   ],
   "source": [
    "x='  @b'\n",
    "x.isspace()"
   ]
  },
  {
   "cell_type": "code",
   "execution_count": 7,
   "id": "80b5ecb0",
   "metadata": {},
   "outputs": [
    {
     "data": {
      "text/plain": [
       "True"
      ]
     },
     "execution_count": 7,
     "metadata": {},
     "output_type": "execute_result"
    }
   ],
   "source": [
    "x=' '\n",
    "x.isspace()"
   ]
  },
  {
   "cell_type": "markdown",
   "id": "f6c027d4",
   "metadata": {},
   "source": [
    "### istitle\n",
    "<b> istitle()method returns \"true\" if the string is a titlescased string otherwise returns \"false\".<b/>"
   ]
  },
  {
   "cell_type": "code",
   "execution_count": 10,
   "id": "64d9ceb9",
   "metadata": {},
   "outputs": [
    {
     "name": "stdout",
     "output_type": "stream",
     "text": [
      "Help on built-in function istitle:\n",
      "\n",
      "istitle() method of builtins.str instance\n",
      "    Return True if the string is a title-cased string, False otherwise.\n",
      "    \n",
      "    In a title-cased string, upper- and title-case characters may only\n",
      "    follow uncased characters and lowercase characters only cased ones.\n",
      "\n"
     ]
    }
   ],
   "source": [
    "help(x.istitle)"
   ]
  },
  {
   "cell_type": "code",
   "execution_count": 11,
   "id": "e81cff99",
   "metadata": {},
   "outputs": [
    {
     "data": {
      "text/plain": [
       "True"
      ]
     },
     "execution_count": 11,
     "metadata": {},
     "output_type": "execute_result"
    }
   ],
   "source": [
    "x=\"Give Me Some Coffee\"\n",
    "x.istitle()"
   ]
  },
  {
   "cell_type": "code",
   "execution_count": 12,
   "id": "b35b4638",
   "metadata": {},
   "outputs": [
    {
     "data": {
      "text/plain": [
       "False"
      ]
     },
     "execution_count": 12,
     "metadata": {},
     "output_type": "execute_result"
    }
   ],
   "source": [
    "x='give me some coffee'\n",
    "x.istitle()"
   ]
  },
  {
   "cell_type": "code",
   "execution_count": null,
   "id": "4f0aba3f",
   "metadata": {},
   "outputs": [],
   "source": []
  }
 ],
 "metadata": {
  "kernelspec": {
   "display_name": "Python 3 (ipykernel)",
   "language": "python",
   "name": "python3"
  },
  "language_info": {
   "codemirror_mode": {
    "name": "ipython",
    "version": 3
   },
   "file_extension": ".py",
   "mimetype": "text/x-python",
   "name": "python",
   "nbconvert_exporter": "python",
   "pygments_lexer": "ipython3",
   "version": "3.11.3"
  }
 },
 "nbformat": 4,
 "nbformat_minor": 5
}
